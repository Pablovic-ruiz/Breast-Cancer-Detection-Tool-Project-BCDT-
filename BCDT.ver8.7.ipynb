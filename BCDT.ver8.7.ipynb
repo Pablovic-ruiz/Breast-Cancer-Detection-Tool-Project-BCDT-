{
 "cells": [
  {
   "cell_type": "markdown",
   "metadata": {},
   "source": [
    "## <font color='darkblue'>Breast Cancer Detection Tool (BCDT) Project</font>\n",
    "\n",
    "by Pablo Ruiz López\n",
    "\n",
    "Mammography is the process of using diagnostic x-rays to examine the human breast. This diagnostic method is made for early detection of breast cancer; a condition that can be detected through characteristic masses or micro calcifications. Mammography is the most common study for breast cancer screening. Just in the United States, there were 11,220,288 mammograms recorded between 1996 and 2016 [[1]](https://www.bcsc-research.org/statistics/mammography_data)\n",
    "\n",
    "By the x-ray exposures and a proper compression of the human breast, the image is displayed in a workstation (typically equipped with a medical grade monitor) through analog or digital means. The image can also be sent to servers through DICOM communication or printed in a DICOM printer for medical evaluation and diagnosis. According to the [ACR](https://www.acr.org/), for the average woman after their 40 years of age, it is recommended for them to perform a mammography each year up to the age of 74. Other agencies and committees recommend mammography studies 2 to 3 times per year after 40 years of age. The Canadian Task Force on Preventive Health Care (2012) and the European Cancer Observatory (2011) recommend mammography every 2 to 3 years between ages 50 and 69.[[2]](https://en.wikipedia.org/wiki/Mammography)\n",
    "\n",
    "<img src=\"Mammogram.jpg\" style=\"width:400px;height:250px;\"><caption><center> <u><font color='purple'> **Figure 1**</u><font color='purple'>: Mammography <br> <font color='black'> </center>\n",
    "\n",
    "The [BI-RADS score](https://www.healthline.com/health/birads-score) (Breast Imaging Reporting and Database System score) it a scoring system used by radiologist to describe findings in a mammogram examination. The BI-RADS score is not typically used for detecting breast cancer, nevertheless it could be a critical score for detecting abnormalities.\n",
    "\n",
    "There are 6 categories for BI-RADS score estimation for recommending or not future follow-up on breast screening.\n",
    "\n",
    "- Category 0:\n",
    "Indicates an incomplete test. There is no conclusive results on the reading or evaluation of the mammogram.\n",
    "\n",
    "- Category 1:\n",
    "Shows that there is no cancer breast and equal distribution of density in the breast.\n",
    "\n",
    "- Category 2:\n",
    "Mammogram results are normal with no indications for cancer. Only used for future comparison.\n",
    "\n",
    "- Category 3:\n",
    "Probably normal results with a 2% chance of cancer. Recommended to perform regular visits to screening examinations.\n",
    "\n",
    "- Category 4:\n",
    "Suspicious finding or abnormality detection with a 20-35% chance of breast cancer. Additionally this classification can be divided into 4A (low suspicion), 4B (moderate suspicion) and 4C (high suspicion).\n",
    "\n",
    "- Category 5:\n",
    "High suspicion of cancer with a 95 percent chance of breast cancer. When classified above 3, a biopsy is recommended for confirmation.\n",
    "\n",
    "- Category 6:\n",
    "Score 6 is for patients that have been evaluated by biopsy examination and received diagnosis for breast cancer.\n",
    "\n",
    "Mammography has a false-negative (missed cancer) rate of at least ten percent. This is partly due to dense tissue obscuring the cancer and the appearance of cancer on mammograms having a large overlap with the appearance of normal tissue. A meta-analysis review of programs in countries with organized screening found a 52% over-diagnosis rate.[[3]](https://en.wikipedia.org/wiki/Mammography)\n",
    "\n",
    "Medical and technological advances in mammography, like better techniques for digital mammography or thomosyntesis have allowed to get a higher precision in cancer detector. And that is one of the main reasons mammography keeps being the screening examination most used for this purpose.\n",
    "\n",
    "<img src=\"3d-mammogram.JPG\" style=\"width:750px;height:350px;\"><caption><center> <u><font color='purple'> **Figure 2**</u><font color='purple'>: Example of Mammogram and Computational Tools for Diagnosis <br> <font color='black'> </center>\n",
    "\n",
    "Breast Cancer is one of the most common diseases in the world. In fact, o the USA, breast cancer is the most common cancer in USA women. The [American Cancer Society](https://www.cancer.org/cancer/breast-cancer/about/how-common-is-breast-cancer.html) estimates breast cancer in the USA for 2020 are that around 276,480 new cases will be discovered in this year, among other facts that makes this cancer a top priority in healthcare.\n",
    "\n",
    "It is now real to start implementing AI tools for medicine, specially on imaging technologies that could help physicians to take more accurate decisions and help detecting pathologies. So it is worth to make a project in this field since the evolution of technology in medicine is a trending topic that has presented great relevance and development on the last decades."
   ]
  },
  {
   "cell_type": "markdown",
   "metadata": {},
   "source": [
    "## <font color='darkblue'>Project Scope</font>\n",
    "\n",
    "In this project I will be developing a software tool for predicting breast cancer based on patient´s public clinical information retrieved from the records found at BCSC web page. The purpose of this project is to help physicians on determining whether a patient can be diagnosed with breast cancer based on its demographic data, prior studies evaluation, historical records, technologist assessment (BI-RADS score) and family medical records.\n",
    "\n",
    "The scope of the project is to develop and deploy a tool that can be used in a radiography software that may classify breast images and, together (as a complete solution) be able to work as Artificial Intelligence for medical decision support in mammography.\n",
    "\n",
    "All text included in _italics_ is retrieved from public relevant web pages. And its proper references are included in <font color='darkblue'>[#]</font> with direct access to them through their http link."
   ]
  },
  {
   "cell_type": "markdown",
   "metadata": {},
   "source": [
    "## <font color='darkblue'>References</font>\n",
    "\n",
    "_[BCSC](https://www.bcsc-research.org/about) is The Breast Cancer Surveillance Consortium (BCSC) is a collaborative network of six active breast imaging registries and two historic registries focused on research to assess and improve the delivery and quality of breast cancer screening and related outcomes in the United States. The registries perform annual linkages to tumor and pathology registries in their geographic region and are supported by a central Statistical Coordinating Center._\n",
    "\n",
    "In here you can find the [dataset](https://www.bcsc-research.org/data/mammography_dataset/dataset_documentation) that will be used in this project.\n",
    "\n",
    "Figure 1 retrieved from: [I1](http://health.sunnybrook.ca/magazine/fall-2016/3-d-mammograms-improve-accuracy-breast-cancer/)"
   ]
  },
  {
   "cell_type": "markdown",
   "metadata": {},
   "source": [
    "## <font color='darkblue'>1.1 Initial Data Exploration</font>\n",
    "\n",
    "In this section, the data to be used in the model is going to be explored and visualized as a primary evaluation. The data is already in a .csv file which makes it easy to import for analysis and usage in python. This step is planned to ensure data quality. Once the quality is confirmed in 1.2, then the next stage would be, statistical analysis and Feature Creation.\n",
    "\n",
    "The main focus will be on visualizing the features and labels for the model training and evaluation."
   ]
  },
  {
   "cell_type": "markdown",
   "metadata": {},
   "source": [
    "### <font color='darkblue'>1.1.1 Dataset Documentation</font>\n",
    "\n",
    "_This digital mammography dataset includes information from 20,000 digital and 20,000 film screening mammograms performed between January 2005 and December 2008 from women included in the Breast Cancer Surveillance Consortium. Some women contribute more than one examination to the dataset. These data are recommended only for use in teaching data analysis or epidemiological concepts. Because the data represent only a small sample of mammography data available from BCSC they should not be used to conduct primary research [[2]](https://www.bcsc-research.org/data/mammography_dataset/dataset_documentation)_\n",
    "\n",
    "_\"Data collection and sharing was supported by the National Cancer Institute-funded Breast Cancer Surveillance Consortium (HHSN261201100031C). You can learn more about the BCSC at:_ http://www.bcsc-research.org/.\"\n",
    "\n",
    "### <font color='darkblue'>**1.1.2 Data Set Information**: \n",
    "\n",
    "<table style=\"width:100%\">\n",
    "  <tr>\n",
    "    <td>age_c</td>\n",
    "    <td>Patient's age in years at time of mammogram</td> \n",
    "    <td>Numerical</td> \n",
    "  </tr>\n",
    "  \n",
    "  <tr>\n",
    "    <td>assess_c</td>\n",
    "    <td>Radiologist's assessment based on the BI-RADS scale</td> \n",
    "    <td>0 = Needs additional imaging\n",
    "        1 = Negative\n",
    "        2 = Benign finding(s)\n",
    "        3 = Probably benign\n",
    "        4 = Suspicious abnormality\n",
    "        5 = Highly suggestive of malignancy</td> \n",
    "  </tr>\n",
    "  \n",
    "  <tr>\n",
    "    <td>cancer_c</td>\n",
    "    <td>Binary indicator of cancer diagnosis within one year of screening mammogram</td> \n",
    "    <td>0 = No cancer diagnosis\n",
    "1 = Cancer diagnosis</td> \n",
    "  </tr>\n",
    "  \n",
    "  <tr>\n",
    "    <td>compfilm_c</td>\n",
    "    <td>Comparison mammogram from prior mammography examination available</td> \n",
    "    <td>0 = no\n",
    "1 = yes\n",
    "9 = missing</td> \n",
    "  </tr>\n",
    "  \n",
    "  <tr>\n",
    "    <td>density_c</td>\n",
    "    <td>Patient's BI-RADS breast density as recorded at time of mammogram </td> \n",
    "    <td>1 = Almost entirely fatty\n",
    "2 = Scattered fibroglandular densities\n",
    "3 = Heterogeneously dense\n",
    "4 = Extremely dense</td> \n",
    "  </tr>\n",
    "  \n",
    "  <tr>\n",
    "    <td>famhx_c</td>\n",
    "    <td>Family history of breast cancer in a first degree relative </td> \n",
    "    <td>0 = no\n",
    "1 = yes\n",
    "9 = missing</td> \n",
    "  </tr>\n",
    "\n",
    "  <tr>\n",
    "    <td>hrt_c</td>\n",
    "    <td>Current use of hormone therapy at time of mammogram</td> \n",
    "    <td>0 = no\n",
    "1 = yes\n",
    "9 = missing</td> \n",
    "  </tr>\n",
    "  \n",
    "  <tr>\n",
    "    <td>prvmam_c</td>\n",
    "    <td>Binary indicator of whether the woman had ever received a prior mammogram </td> \n",
    "    <td>0 = no\n",
    "1 = yes\n",
    "9 = missing</td> \n",
    "  </tr>\n",
    "  \n",
    "  <tr>\n",
    "    <td>biophx_c</td>\n",
    "    <td>History of breast biopsy</td> \n",
    "    <td>0 = no\n",
    "1 = yes\n",
    "9 = missing</td> \n",
    "  </tr>\n",
    "  \n",
    "  <tr>\n",
    "    <td>mammtype</td>\n",
    "    <td>Film or digital mammogram</td> \n",
    "    <td>1 = Film mammogram\n",
    "2 = Digital mammogram</td> \n",
    "  </tr>\n",
    "  \n",
    "  <tr>\n",
    "    <td>CaTypeO</td>\n",
    "    <td>Cancer type</td> \n",
    "    <td>\t1 = Ductal carcinoma in situ\n",
    "2 = Invasive cancer\n",
    "8 = No cancer diagnosis</td> \n",
    "  </tr>\n",
    "  \n",
    "  <tr>\n",
    "    <td>bmi_c</td>\n",
    "    <td>Body mass index at time of mammogram</td> \n",
    "    <td>Numerical or -99 if missing</td> \n",
    "  </tr>\n",
    "  \n",
    "  <tr>\n",
    "    <td>ptid</td>\n",
    "    <td>Patient's study id</td> \n",
    "    <td> </td> \n",
    "  </tr>\n",
    "  \n",
    "</table>"
   ]
  },
  {
   "cell_type": "markdown",
   "metadata": {},
   "source": [
    "Data retrieved from References will be transformed into a pandas Data Frame to be easily handled. In this format the data will be analyzed to have some insights in:\n",
    "\n",
    "- Empty fields in any of the rows/columns\n",
    "- Missing values in any of the columns\n",
    "- Consistency on the values references on the Data Set Information\n",
    "- Balance in classifications\n",
    "- Any undesired duplicates (for the patient ID, for example)\n",
    "- Ranges of variables for data consistency\n",
    "- Class balance in the data set\n",
    "\n",
    "Also, the data is going to be visualized to have primary insights on the data and metrics for determining feature dropping (or adding) when implementing the machine learning model. Nevertheless, this feature selection would not be only based on correlation in the data but also based on medical relevant knowledge."
   ]
  },
  {
   "cell_type": "code",
   "execution_count": 1,
   "metadata": {},
   "outputs": [],
   "source": [
    "#Data analysis and manipulation tools\n",
    "import pandas as pd\n",
    "import numpy as np\n",
    "import math"
   ]
  },
  {
   "cell_type": "code",
   "execution_count": 2,
   "metadata": {},
   "outputs": [],
   "source": [
    "train_df_read = pd.read_csv('C:/Users/pablo/Desktop/BCDT.raw_dataset.csv') #Raw accelerometer data for train set"
   ]
  },
  {
   "cell_type": "code",
   "execution_count": 3,
   "metadata": {},
   "outputs": [
    {
     "data": {
      "text/html": [
       "<div>\n",
       "<style scoped>\n",
       "    .dataframe tbody tr th:only-of-type {\n",
       "        vertical-align: middle;\n",
       "    }\n",
       "\n",
       "    .dataframe tbody tr th {\n",
       "        vertical-align: top;\n",
       "    }\n",
       "\n",
       "    .dataframe thead th {\n",
       "        text-align: right;\n",
       "    }\n",
       "</style>\n",
       "<table border=\"1\" class=\"dataframe\">\n",
       "  <thead>\n",
       "    <tr style=\"text-align: right;\">\n",
       "      <th></th>\n",
       "      <th>age_c</th>\n",
       "      <th>assess_c</th>\n",
       "      <th>cancer_c</th>\n",
       "      <th>compfilm_c</th>\n",
       "      <th>density_c</th>\n",
       "      <th>famhx_c</th>\n",
       "      <th>hrt_c</th>\n",
       "      <th>prvmam_c</th>\n",
       "      <th>biophx_c</th>\n",
       "      <th>mammtype</th>\n",
       "      <th>CaTypeO</th>\n",
       "      <th>bmi_c</th>\n",
       "      <th>ptid</th>\n",
       "    </tr>\n",
       "  </thead>\n",
       "  <tbody>\n",
       "    <tr>\n",
       "      <td>0</td>\n",
       "      <td>62</td>\n",
       "      <td>1</td>\n",
       "      <td>0</td>\n",
       "      <td>1</td>\n",
       "      <td>2</td>\n",
       "      <td>0</td>\n",
       "      <td>0</td>\n",
       "      <td>1</td>\n",
       "      <td>0</td>\n",
       "      <td>1</td>\n",
       "      <td>8</td>\n",
       "      <td>24.023544</td>\n",
       "      <td>1</td>\n",
       "    </tr>\n",
       "    <tr>\n",
       "      <td>1</td>\n",
       "      <td>65</td>\n",
       "      <td>1</td>\n",
       "      <td>0</td>\n",
       "      <td>1</td>\n",
       "      <td>4</td>\n",
       "      <td>0</td>\n",
       "      <td>0</td>\n",
       "      <td>1</td>\n",
       "      <td>0</td>\n",
       "      <td>1</td>\n",
       "      <td>8</td>\n",
       "      <td>-99.000000</td>\n",
       "      <td>2</td>\n",
       "    </tr>\n",
       "    <tr>\n",
       "      <td>2</td>\n",
       "      <td>69</td>\n",
       "      <td>0</td>\n",
       "      <td>0</td>\n",
       "      <td>1</td>\n",
       "      <td>2</td>\n",
       "      <td>0</td>\n",
       "      <td>0</td>\n",
       "      <td>1</td>\n",
       "      <td>0</td>\n",
       "      <td>1</td>\n",
       "      <td>8</td>\n",
       "      <td>29.052429</td>\n",
       "      <td>3</td>\n",
       "    </tr>\n",
       "    <tr>\n",
       "      <td>3</td>\n",
       "      <td>64</td>\n",
       "      <td>2</td>\n",
       "      <td>0</td>\n",
       "      <td>1</td>\n",
       "      <td>2</td>\n",
       "      <td>0</td>\n",
       "      <td>0</td>\n",
       "      <td>1</td>\n",
       "      <td>0</td>\n",
       "      <td>1</td>\n",
       "      <td>8</td>\n",
       "      <td>-99.000000</td>\n",
       "      <td>4</td>\n",
       "    </tr>\n",
       "    <tr>\n",
       "      <td>4</td>\n",
       "      <td>63</td>\n",
       "      <td>3</td>\n",
       "      <td>0</td>\n",
       "      <td>1</td>\n",
       "      <td>2</td>\n",
       "      <td>0</td>\n",
       "      <td>0</td>\n",
       "      <td>1</td>\n",
       "      <td>1</td>\n",
       "      <td>1</td>\n",
       "      <td>8</td>\n",
       "      <td>33.729523</td>\n",
       "      <td>5</td>\n",
       "    </tr>\n",
       "  </tbody>\n",
       "</table>\n",
       "</div>"
      ],
      "text/plain": [
       "   age_c  assess_c  cancer_c  compfilm_c  density_c  famhx_c  hrt_c  prvmam_c  \\\n",
       "0     62         1         0           1          2        0      0         1   \n",
       "1     65         1         0           1          4        0      0         1   \n",
       "2     69         0         0           1          2        0      0         1   \n",
       "3     64         2         0           1          2        0      0         1   \n",
       "4     63         3         0           1          2        0      0         1   \n",
       "\n",
       "   biophx_c  mammtype  CaTypeO      bmi_c  ptid  \n",
       "0         0         1        8  24.023544     1  \n",
       "1         0         1        8 -99.000000     2  \n",
       "2         0         1        8  29.052429     3  \n",
       "3         0         1        8 -99.000000     4  \n",
       "4         1         1        8  33.729523     5  "
      ]
     },
     "execution_count": 3,
     "metadata": {},
     "output_type": "execute_result"
    }
   ],
   "source": [
    "train_df_read.head() #Raw data from dataset visualization (features)"
   ]
  },
  {
   "cell_type": "code",
   "execution_count": 4,
   "metadata": {},
   "outputs": [
    {
     "data": {
      "text/plain": [
       "0    0\n",
       "1    0\n",
       "2    0\n",
       "3    0\n",
       "4    0\n",
       "Name: cancer_c, dtype: int64"
      ]
     },
     "execution_count": 4,
     "metadata": {},
     "output_type": "execute_result"
    }
   ],
   "source": [
    "labels_df_read = train_df_read['cancer_c'] #Raw labels extraction \n",
    "labels_df_read.head() #Raw data from dataset visualization (labels)"
   ]
  },
  {
   "cell_type": "markdown",
   "metadata": {},
   "source": [
    "### <font color='darkblue'>**1.1.3 Data Insights**: \n",
    "    \n",
    "The data insights selected are based on critical information for analyzing the data and using it in the model, clinical relevance and also as a way of double checking the consistency of the Data Set Information."
   ]
  },
  {
   "cell_type": "code",
   "execution_count": 5,
   "metadata": {},
   "outputs": [
    {
     "name": "stdout",
     "output_type": "stream",
     "text": [
      "Missing Values in the Data Set\n",
      "##############################\n",
      "'Body Mass Index':  23209\n",
      "'Receiving a Mammogram':  578\n",
      "'Family History':  228\n",
      "'Hormone Therapy Info':  1772\n",
      "'Breast Biopsy Record':  815\n",
      "\n",
      "Class Balance\n",
      "#############\n",
      "Number of Cancer Patients: 259 (0.7%)\n",
      "Number of Non Cancer Patients: 39741 (99.3%)\n",
      "\n",
      "Empty or Non Classified Patients\n",
      "################################\n",
      "Is there any empty registry?  False\n",
      "Are all patients classified?  True\n",
      "\n",
      "Repetition in Patient ID\n",
      "#########################\n",
      "Are the ID's unique?  False\n",
      "\n",
      "Checking Feature Ranges\n",
      "#######################\n",
      "Range of Age: 60-89\n",
      "Range of BI-RADS Breast Density: 1-4\n"
     ]
    }
   ],
   "source": [
    "#Missing values in the data set\n",
    "print(\"Missing Values in the Data Set\")\n",
    "print(\"##############################\")\n",
    "print(\"'Body Mass Index': \",sum(train_df_read['bmi_c']==-99)) #***\n",
    "print(\"'Receiving a Mammogram': \",sum(train_df_read['prvmam_c']==9)) #***\n",
    "print(\"'Family History': \",sum(train_df_read['famhx_c']==9))\n",
    "print(\"'Hormone Therapy Info': \",sum(train_df_read['hrt_c']==9))\n",
    "print(\"'Breast Biopsy Record': \",sum(train_df_read['biophx_c']==9))\n",
    "#Class Balance\n",
    "print(\"\")\n",
    "print(\"Class Balance\")\n",
    "print(\"#############\")\n",
    "labdf = pd.DataFrame(labels_df_read)\n",
    "print(\"Number of Cancer Patients: \"+ str(sum(labdf['cancer_c']==1)) +' (0.7%)')\n",
    "print(\"Number of Non Cancer Patients: \"+ str(sum(labdf['cancer_c']==0)) +' (99.3%)')\n",
    "#Empty or Non Classified Patients\n",
    "print(\"\")\n",
    "print(\"Empty or Non Classified Patients\")\n",
    "print(\"################################\")\n",
    "print(\"Is there any empty registry? \", labdf['cancer_c'].isnull().values.any())\n",
    "print(\"Are all patients classified? \",(sum(labdf['cancer_c']!=1) + sum(labdf['cancer_c']!=0)) == len(labdf['cancer_c']))\n",
    "#Repetition of critical values\n",
    "print(\"\")\n",
    "print(\"Repetition in Patient ID\")\n",
    "print(\"#########################\")\n",
    "print(\"Are the ID's unique? \", train_df_read[\"ptid\"].is_unique)\n",
    "#Checking Relevant Feature Ranges\n",
    "print(\"\")\n",
    "print(\"Checking Feature Ranges\")\n",
    "print(\"#######################\")\n",
    "print(\"Range of Age: {}-{}\".format(train_df_read[\"age_c\"].min(),train_df_read[\"age_c\"].max()))\n",
    "print(\"Range of BI-RADS Breast Density: {}-{}\".format(train_df_read[\"density_c\"].min(),train_df_read[\"density_c\"].max()))"
   ]
  },
  {
   "cell_type": "markdown",
   "metadata": {},
   "source": [
    "In this part of the code, we will make an initial drop for some values that could have low or none clinical relevance for the model, like:\n",
    "\n",
    "- Patient Id (which is not relevant at all).\n",
    "- Cancer Type (since the classifier will work only on detecting cancer (1) or not (0)).\n",
    "- History of Breast Biopsy (since this feature can bias the model and lower the precision on a test data set).\n",
    "\n",
    "This step is for getting initial insights by statistical analysis that can be made on the data. The final transformation and feature selection, as well as the format, will be implemented in 1.2 section, but in here we will take a first look on our data."
   ]
  },
  {
   "cell_type": "code",
   "execution_count": 6,
   "metadata": {},
   "outputs": [],
   "source": [
    "train_df_corr = train_df_read.drop(['compfilm_c','CaTypeO','biophx_c','ptid'], axis=1)"
   ]
  },
  {
   "cell_type": "markdown",
   "metadata": {},
   "source": [
    "### <font color='darkblue'>**1.1.4 Statistical Analysis and Data Visualization**:\n",
    "    \n",
    "In this section it will be used the following tools in python for plotting and statistical analysis"
   ]
  },
  {
   "cell_type": "code",
   "execution_count": 7,
   "metadata": {},
   "outputs": [],
   "source": [
    "#Imports and Magic for plotting\n",
    "%matplotlib notebook\n",
    "%matplotlib inline\n",
    "import matplotlib as mpl\n",
    "import matplotlib.pyplot as plt\n",
    "import seaborn as sns\n",
    "import pandas as pd\n",
    "from pandas.plotting import scatter_matrix"
   ]
  },
  {
   "cell_type": "code",
   "execution_count": 8,
   "metadata": {},
   "outputs": [
    {
     "data": {
      "text/plain": [
       "<matplotlib.axes._subplots.AxesSubplot at 0x17db1893848>"
      ]
     },
     "execution_count": 8,
     "metadata": {},
     "output_type": "execute_result"
    },
    {
     "data": {
      "image/png": "[encoded data removed]",
      "text/plain": [
       "<Figure size 576x288 with 1 Axes>"
      ]
     },
     "metadata": {
      "needs_background": "light"
     },
     "output_type": "display_data"
    }
   ],
   "source": [
    "#Using Seaborn for plotting histogram based on the BI-RADS assesment\n",
    "plt.figure(figsize=(8,4))\n",
    "sns.distplot(train_df_read['assess_c'],bins=6,\n",
    "            kde_kws={'color':'indianred','label':'KDE Plot'},\n",
    "            hist_kws = {'color':'blue','label':'Histogram'})"
   ]
  },
  {
   "cell_type": "code",
   "execution_count": 9,
   "metadata": {},
   "outputs": [
    {
     "data": {
      "text/plain": [
       "<matplotlib.axes._subplots.AxesSubplot at 0x17db1bb46c8>"
      ]
     },
     "execution_count": 9,
     "metadata": {},
     "output_type": "execute_result"
    },
    {
     "data": {
      "image/png": "[encoded data removed]",
      "text/plain": [
       "<Figure size 576x288 with 1 Axes>"
      ]
     },
     "metadata": {
      "needs_background": "light"
     },
     "output_type": "display_data"
    }
   ],
   "source": [
    "#Using Seaborn for plotting histogram based on the breast density assesment\n",
    "plt.figure(figsize=(8,4))\n",
    "sns.distplot(train_df_read['density_c'],bins=4,\n",
    "            kde_kws={'color':'indianred','label':'KDE Plot'},\n",
    "            hist_kws = {'color':'blue','label':'Histogram'})"
   ]
  },
  {
   "cell_type": "code",
   "execution_count": 10,
   "metadata": {},
   "outputs": [
    {
     "data": {
      "text/plain": [
       "<matplotlib.axes._subplots.AxesSubplot at 0x17db1c59488>"
      ]
     },
     "execution_count": 10,
     "metadata": {},
     "output_type": "execute_result"
    },
    {
     "data": {
      "image/png": "[encoded data removed]",
      "text/plain": [
       "<Figure size 576x288 with 1 Axes>"
      ]
     },
     "metadata": {
      "needs_background": "light"
     },
     "output_type": "display_data"
    }
   ],
   "source": [
    "#Using Seaborn for plotting histogram based on the age\n",
    "plt.figure(figsize=(8,4))\n",
    "sns.distplot(train_df_read['age_c'],bins=45,\n",
    "            kde_kws={'color':'indianred','label':'KDE Plot'},\n",
    "            hist_kws = {'color':'blue','label':'Histogram'})"
   ]
  },
  {
   "cell_type": "code",
   "execution_count": 11,
   "metadata": {},
   "outputs": [
    {
     "data": {
      "image/png": "[encoded data removed]",
      "text/plain": [
       "<Figure size 864x576 with 2 Axes>"
      ]
     },
     "metadata": {
      "needs_background": "light"
     },
     "output_type": "display_data"
    }
   ],
   "source": [
    "df = train_df_corr\n",
    "f = plt.figure(figsize=(12, 8))\n",
    "plt.matshow(df.corr(), fignum=f.number)\n",
    "plt.xticks(range(df.shape[1]), df.columns, fontsize=14, rotation=45)\n",
    "plt.yticks(range(df.shape[1]), df.columns, fontsize=14)\n",
    "cb = plt.colorbar()\n",
    "cb.ax.tick_params(labelsize=14)"
   ]
  },
  {
   "cell_type": "code",
   "execution_count": 12,
   "metadata": {},
   "outputs": [
    {
     "data": {
      "text/html": [
       "<style  type=\"text/css\" >\n",
       "    #T_0577ffd0_c535_11ea_a2b1_a0510b4e9dfbrow0_col0 {\n",
       "            background-color:  #b40426;\n",
       "            color:  #f1f1f1;\n",
       "        }    #T_0577ffd0_c535_11ea_a2b1_a0510b4e9dfbrow0_col1 {\n",
       "            background-color:  #bcd2f7;\n",
       "            color:  #000000;\n",
       "        }    #T_0577ffd0_c535_11ea_a2b1_a0510b4e9dfbrow0_col2 {\n",
       "            background-color:  #f5c1a9;\n",
       "            color:  #000000;\n",
       "        }    #T_0577ffd0_c535_11ea_a2b1_a0510b4e9dfbrow0_col3 {\n",
       "            background-color:  #3b4cc0;\n",
       "            color:  #f1f1f1;\n",
       "        }    #T_0577ffd0_c535_11ea_a2b1_a0510b4e9dfbrow0_col4 {\n",
       "            background-color:  #4a63d3;\n",
       "            color:  #f1f1f1;\n",
       "        }    #T_0577ffd0_c535_11ea_a2b1_a0510b4e9dfbrow0_col5 {\n",
       "            background-color:  #9bbcff;\n",
       "            color:  #000000;\n",
       "        }    #T_0577ffd0_c535_11ea_a2b1_a0510b4e9dfbrow0_col6 {\n",
       "            background-color:  #3b4cc0;\n",
       "            color:  #f1f1f1;\n",
       "        }    #T_0577ffd0_c535_11ea_a2b1_a0510b4e9dfbrow0_col7 {\n",
       "            background-color:  #9ebeff;\n",
       "            color:  #000000;\n",
       "        }    #T_0577ffd0_c535_11ea_a2b1_a0510b4e9dfbrow0_col8 {\n",
       "            background-color:  #3b4cc0;\n",
       "            color:  #f1f1f1;\n",
       "        }    #T_0577ffd0_c535_11ea_a2b1_a0510b4e9dfbrow0_col9 {\n",
       "            background-color:  #d1dae9;\n",
       "            color:  #000000;\n",
       "        }    #T_0577ffd0_c535_11ea_a2b1_a0510b4e9dfbrow0_col10 {\n",
       "            background-color:  #5673e0;\n",
       "            color:  #000000;\n",
       "        }    #T_0577ffd0_c535_11ea_a2b1_a0510b4e9dfbrow0_col11 {\n",
       "            background-color:  #7295f4;\n",
       "            color:  #000000;\n",
       "        }    #T_0577ffd0_c535_11ea_a2b1_a0510b4e9dfbrow1_col0 {\n",
       "            background-color:  #bfd3f6;\n",
       "            color:  #000000;\n",
       "        }    #T_0577ffd0_c535_11ea_a2b1_a0510b4e9dfbrow1_col1 {\n",
       "            background-color:  #b40426;\n",
       "            color:  #f1f1f1;\n",
       "        }    #T_0577ffd0_c535_11ea_a2b1_a0510b4e9dfbrow1_col2 {\n",
       "            background-color:  #4055c8;\n",
       "            color:  #f1f1f1;\n",
       "        }    #T_0577ffd0_c535_11ea_a2b1_a0510b4e9dfbrow1_col3 {\n",
       "            background-color:  #f4c5ad;\n",
       "            color:  #000000;\n",
       "        }    #T_0577ffd0_c535_11ea_a2b1_a0510b4e9dfbrow1_col4 {\n",
       "            background-color:  #536edd;\n",
       "            color:  #000000;\n",
       "        }    #T_0577ffd0_c535_11ea_a2b1_a0510b4e9dfbrow1_col5 {\n",
       "            background-color:  #b6cefa;\n",
       "            color:  #000000;\n",
       "        }    #T_0577ffd0_c535_11ea_a2b1_a0510b4e9dfbrow1_col6 {\n",
       "            background-color:  #93b5fe;\n",
       "            color:  #000000;\n",
       "        }    #T_0577ffd0_c535_11ea_a2b1_a0510b4e9dfbrow1_col7 {\n",
       "            background-color:  #bbd1f8;\n",
       "            color:  #000000;\n",
       "        }    #T_0577ffd0_c535_11ea_a2b1_a0510b4e9dfbrow1_col8 {\n",
       "            background-color:  #f3c7b1;\n",
       "            color:  #000000;\n",
       "        }    #T_0577ffd0_c535_11ea_a2b1_a0510b4e9dfbrow1_col9 {\n",
       "            background-color:  #f1ccb8;\n",
       "            color:  #000000;\n",
       "        }    #T_0577ffd0_c535_11ea_a2b1_a0510b4e9dfbrow1_col10 {\n",
       "            background-color:  #88abfd;\n",
       "            color:  #000000;\n",
       "        }    #T_0577ffd0_c535_11ea_a2b1_a0510b4e9dfbrow1_col11 {\n",
       "            background-color:  #dbdcde;\n",
       "            color:  #000000;\n",
       "        }    #T_0577ffd0_c535_11ea_a2b1_a0510b4e9dfbrow2_col0 {\n",
       "            background-color:  #f5c4ac;\n",
       "            color:  #000000;\n",
       "        }    #T_0577ffd0_c535_11ea_a2b1_a0510b4e9dfbrow2_col1 {\n",
       "            background-color:  #3b4cc0;\n",
       "            color:  #f1f1f1;\n",
       "        }    #T_0577ffd0_c535_11ea_a2b1_a0510b4e9dfbrow2_col2 {\n",
       "            background-color:  #b40426;\n",
       "            color:  #f1f1f1;\n",
       "        }    #T_0577ffd0_c535_11ea_a2b1_a0510b4e9dfbrow2_col3 {\n",
       "            background-color:  #8caffe;\n",
       "            color:  #000000;\n",
       "        }    #T_0577ffd0_c535_11ea_a2b1_a0510b4e9dfbrow2_col4 {\n",
       "            background-color:  #b9d0f9;\n",
       "            color:  #000000;\n",
       "        }    #T_0577ffd0_c535_11ea_a2b1_a0510b4e9dfbrow2_col5 {\n",
       "            background-color:  #506bda;\n",
       "            color:  #000000;\n",
       "        }    #T_0577ffd0_c535_11ea_a2b1_a0510b4e9dfbrow2_col6 {\n",
       "            background-color:  #6282ea;\n",
       "            color:  #000000;\n",
       "        }    #T_0577ffd0_c535_11ea_a2b1_a0510b4e9dfbrow2_col7 {\n",
       "            background-color:  #3b4cc0;\n",
       "            color:  #f1f1f1;\n",
       "        }    #T_0577ffd0_c535_11ea_a2b1_a0510b4e9dfbrow2_col8 {\n",
       "            background-color:  #5d7ce6;\n",
       "            color:  #000000;\n",
       "        }    #T_0577ffd0_c535_11ea_a2b1_a0510b4e9dfbrow2_col9 {\n",
       "            background-color:  #445acc;\n",
       "            color:  #f1f1f1;\n",
       "        }    #T_0577ffd0_c535_11ea_a2b1_a0510b4e9dfbrow2_col10 {\n",
       "            background-color:  #bfd3f6;\n",
       "            color:  #000000;\n",
       "        }    #T_0577ffd0_c535_11ea_a2b1_a0510b4e9dfbrow2_col11 {\n",
       "            background-color:  #3b4cc0;\n",
       "            color:  #f1f1f1;\n",
       "        }    #T_0577ffd0_c535_11ea_a2b1_a0510b4e9dfbrow3_col0 {\n",
       "            background-color:  #3b4cc0;\n",
       "            color:  #f1f1f1;\n",
       "        }    #T_0577ffd0_c535_11ea_a2b1_a0510b4e9dfbrow3_col1 {\n",
       "            background-color:  #f4c6af;\n",
       "            color:  #000000;\n",
       "        }    #T_0577ffd0_c535_11ea_a2b1_a0510b4e9dfbrow3_col2 {\n",
       "            background-color:  #90b2fe;\n",
       "            color:  #000000;\n",
       "        }    #T_0577ffd0_c535_11ea_a2b1_a0510b4e9dfbrow3_col3 {\n",
       "            background-color:  #b40426;\n",
       "            color:  #f1f1f1;\n",
       "        }    #T_0577ffd0_c535_11ea_a2b1_a0510b4e9dfbrow3_col4 {\n",
       "            background-color:  #dcdddd;\n",
       "            color:  #000000;\n",
       "        }    #T_0577ffd0_c535_11ea_a2b1_a0510b4e9dfbrow3_col5 {\n",
       "            background-color:  #88abfd;\n",
       "            color:  #000000;\n",
       "        }    #T_0577ffd0_c535_11ea_a2b1_a0510b4e9dfbrow3_col6 {\n",
       "            background-color:  #5e7de7;\n",
       "            color:  #000000;\n",
       "        }    #T_0577ffd0_c535_11ea_a2b1_a0510b4e9dfbrow3_col7 {\n",
       "            background-color:  #8db0fe;\n",
       "            color:  #000000;\n",
       "        }    #T_0577ffd0_c535_11ea_a2b1_a0510b4e9dfbrow3_col8 {\n",
       "            background-color:  #e6d7cf;\n",
       "            color:  #000000;\n",
       "        }    #T_0577ffd0_c535_11ea_a2b1_a0510b4e9dfbrow3_col9 {\n",
       "            background-color:  #96b7ff;\n",
       "            color:  #000000;\n",
       "        }    #T_0577ffd0_c535_11ea_a2b1_a0510b4e9dfbrow3_col10 {\n",
       "            background-color:  #96b7ff;\n",
       "            color:  #000000;\n",
       "        }    #T_0577ffd0_c535_11ea_a2b1_a0510b4e9dfbrow3_col11 {\n",
       "            background-color:  #a3c2fe;\n",
       "            color:  #000000;\n",
       "        }    #T_0577ffd0_c535_11ea_a2b1_a0510b4e9dfbrow4_col0 {\n",
       "            background-color:  #5a78e4;\n",
       "            color:  #000000;\n",
       "        }    #T_0577ffd0_c535_11ea_a2b1_a0510b4e9dfbrow4_col1 {\n",
       "            background-color:  #5f7fe8;\n",
       "            color:  #000000;\n",
       "        }    #T_0577ffd0_c535_11ea_a2b1_a0510b4e9dfbrow4_col2 {\n",
       "            background-color:  #c5d6f2;\n",
       "            color:  #000000;\n",
       "        }    #T_0577ffd0_c535_11ea_a2b1_a0510b4e9dfbrow4_col3 {\n",
       "            background-color:  #e3d9d3;\n",
       "            color:  #000000;\n",
       "        }    #T_0577ffd0_c535_11ea_a2b1_a0510b4e9dfbrow4_col4 {\n",
       "            background-color:  #b40426;\n",
       "            color:  #f1f1f1;\n",
       "        }    #T_0577ffd0_c535_11ea_a2b1_a0510b4e9dfbrow4_col5 {\n",
       "            background-color:  #3b4cc0;\n",
       "            color:  #f1f1f1;\n",
       "        }    #T_0577ffd0_c535_11ea_a2b1_a0510b4e9dfbrow4_col6 {\n",
       "            background-color:  #445acc;\n",
       "            color:  #f1f1f1;\n",
       "        }    #T_0577ffd0_c535_11ea_a2b1_a0510b4e9dfbrow4_col7 {\n",
       "            background-color:  #a2c1ff;\n",
       "            color:  #000000;\n",
       "        }    #T_0577ffd0_c535_11ea_a2b1_a0510b4e9dfbrow4_col8 {\n",
       "            background-color:  #5470de;\n",
       "            color:  #000000;\n",
       "        }    #T_0577ffd0_c535_11ea_a2b1_a0510b4e9dfbrow4_col9 {\n",
       "            background-color:  #799cf8;\n",
       "            color:  #000000;\n",
       "        }    #T_0577ffd0_c535_11ea_a2b1_a0510b4e9dfbrow4_col10 {\n",
       "            background-color:  #a3c2fe;\n",
       "            color:  #000000;\n",
       "        }    #T_0577ffd0_c535_11ea_a2b1_a0510b4e9dfbrow4_col11 {\n",
       "            background-color:  #6282ea;\n",
       "            color:  #000000;\n",
       "        }    #T_0577ffd0_c535_11ea_a2b1_a0510b4e9dfbrow5_col0 {\n",
       "            background-color:  #a9c6fd;\n",
       "            color:  #000000;\n",
       "        }    #T_0577ffd0_c535_11ea_a2b1_a0510b4e9dfbrow5_col1 {\n",
       "            background-color:  #bfd3f6;\n",
       "            color:  #000000;\n",
       "        }    #T_0577ffd0_c535_11ea_a2b1_a0510b4e9dfbrow5_col2 {\n",
       "            background-color:  #6384eb;\n",
       "            color:  #000000;\n",
       "        }    #T_0577ffd0_c535_11ea_a2b1_a0510b4e9dfbrow5_col3 {\n",
       "            background-color:  #96b7ff;\n",
       "            color:  #000000;\n",
       "        }    #T_0577ffd0_c535_11ea_a2b1_a0510b4e9dfbrow5_col4 {\n",
       "            background-color:  #3b4cc0;\n",
       "            color:  #f1f1f1;\n",
       "        }    #T_0577ffd0_c535_11ea_a2b1_a0510b4e9dfbrow5_col5 {\n",
       "            background-color:  #b40426;\n",
       "            color:  #f1f1f1;\n",
       "        }    #T_0577ffd0_c535_11ea_a2b1_a0510b4e9dfbrow5_col6 {\n",
       "            background-color:  #92b4fe;\n",
       "            color:  #000000;\n",
       "        }    #T_0577ffd0_c535_11ea_a2b1_a0510b4e9dfbrow5_col7 {\n",
       "            background-color:  #f6bfa6;\n",
       "            color:  #000000;\n",
       "        }    #T_0577ffd0_c535_11ea_a2b1_a0510b4e9dfbrow5_col8 {\n",
       "            background-color:  #bcd2f7;\n",
       "            color:  #000000;\n",
       "        }    #T_0577ffd0_c535_11ea_a2b1_a0510b4e9dfbrow5_col9 {\n",
       "            background-color:  #f1ccb8;\n",
       "            color:  #000000;\n",
       "        }    #T_0577ffd0_c535_11ea_a2b1_a0510b4e9dfbrow5_col10 {\n",
       "            background-color:  #a2c1ff;\n",
       "            color:  #000000;\n",
       "        }    #T_0577ffd0_c535_11ea_a2b1_a0510b4e9dfbrow5_col11 {\n",
       "            background-color:  #a3c2fe;\n",
       "            color:  #000000;\n",
       "        }    #T_0577ffd0_c535_11ea_a2b1_a0510b4e9dfbrow6_col0 {\n",
       "            background-color:  #5977e3;\n",
       "            color:  #000000;\n",
       "        }    #T_0577ffd0_c535_11ea_a2b1_a0510b4e9dfbrow6_col1 {\n",
       "            background-color:  #a9c6fd;\n",
       "            color:  #000000;\n",
       "        }    #T_0577ffd0_c535_11ea_a2b1_a0510b4e9dfbrow6_col2 {\n",
       "            background-color:  #84a7fc;\n",
       "            color:  #000000;\n",
       "        }    #T_0577ffd0_c535_11ea_a2b1_a0510b4e9dfbrow6_col3 {\n",
       "            background-color:  #7b9ff9;\n",
       "            color:  #000000;\n",
       "        }    #T_0577ffd0_c535_11ea_a2b1_a0510b4e9dfbrow6_col4 {\n",
       "            background-color:  #536edd;\n",
       "            color:  #000000;\n",
       "        }    #T_0577ffd0_c535_11ea_a2b1_a0510b4e9dfbrow6_col5 {\n",
       "            background-color:  #9ebeff;\n",
       "            color:  #000000;\n",
       "        }    #T_0577ffd0_c535_11ea_a2b1_a0510b4e9dfbrow6_col6 {\n",
       "            background-color:  #b40426;\n",
       "            color:  #f1f1f1;\n",
       "        }    #T_0577ffd0_c535_11ea_a2b1_a0510b4e9dfbrow6_col7 {\n",
       "            background-color:  #bfd3f6;\n",
       "            color:  #000000;\n",
       "        }    #T_0577ffd0_c535_11ea_a2b1_a0510b4e9dfbrow6_col8 {\n",
       "            background-color:  #ecd3c5;\n",
       "            color:  #000000;\n",
       "        }    #T_0577ffd0_c535_11ea_a2b1_a0510b4e9dfbrow6_col9 {\n",
       "            background-color:  #d4dbe6;\n",
       "            color:  #000000;\n",
       "        }    #T_0577ffd0_c535_11ea_a2b1_a0510b4e9dfbrow6_col10 {\n",
       "            background-color:  #f1ccb8;\n",
       "            color:  #000000;\n",
       "        }    #T_0577ffd0_c535_11ea_a2b1_a0510b4e9dfbrow6_col11 {\n",
       "            background-color:  #e2dad5;\n",
       "            color:  #000000;\n",
       "        }    #T_0577ffd0_c535_11ea_a2b1_a0510b4e9dfbrow7_col0 {\n",
       "            background-color:  #9bbcff;\n",
       "            color:  #000000;\n",
       "        }    #T_0577ffd0_c535_11ea_a2b1_a0510b4e9dfbrow7_col1 {\n",
       "            background-color:  #b6cefa;\n",
       "            color:  #000000;\n",
       "        }    #T_0577ffd0_c535_11ea_a2b1_a0510b4e9dfbrow7_col2 {\n",
       "            background-color:  #3b4cc0;\n",
       "            color:  #f1f1f1;\n",
       "        }    #T_0577ffd0_c535_11ea_a2b1_a0510b4e9dfbrow7_col3 {\n",
       "            background-color:  #8badfd;\n",
       "            color:  #000000;\n",
       "        }    #T_0577ffd0_c535_11ea_a2b1_a0510b4e9dfbrow7_col4 {\n",
       "            background-color:  #92b4fe;\n",
       "            color:  #000000;\n",
       "        }    #T_0577ffd0_c535_11ea_a2b1_a0510b4e9dfbrow7_col5 {\n",
       "            background-color:  #f4c6af;\n",
       "            color:  #000000;\n",
       "        }    #T_0577ffd0_c535_11ea_a2b1_a0510b4e9dfbrow7_col6 {\n",
       "            background-color:  #a6c4fe;\n",
       "            color:  #000000;\n",
       "        }    #T_0577ffd0_c535_11ea_a2b1_a0510b4e9dfbrow7_col7 {\n",
       "            background-color:  #b40426;\n",
       "            color:  #f1f1f1;\n",
       "        }    #T_0577ffd0_c535_11ea_a2b1_a0510b4e9dfbrow7_col8 {\n",
       "            background-color:  #84a7fc;\n",
       "            color:  #000000;\n",
       "        }    #T_0577ffd0_c535_11ea_a2b1_a0510b4e9dfbrow7_col9 {\n",
       "            background-color:  #f7bca1;\n",
       "            color:  #000000;\n",
       "        }    #T_0577ffd0_c535_11ea_a2b1_a0510b4e9dfbrow7_col10 {\n",
       "            background-color:  #a3c2fe;\n",
       "            color:  #000000;\n",
       "        }    #T_0577ffd0_c535_11ea_a2b1_a0510b4e9dfbrow7_col11 {\n",
       "            background-color:  #e4d9d2;\n",
       "            color:  #000000;\n",
       "        }    #T_0577ffd0_c535_11ea_a2b1_a0510b4e9dfbrow8_col0 {\n",
       "            background-color:  #4a63d3;\n",
       "            color:  #f1f1f1;\n",
       "        }    #T_0577ffd0_c535_11ea_a2b1_a0510b4e9dfbrow8_col1 {\n",
       "            background-color:  #f5c2aa;\n",
       "            color:  #000000;\n",
       "        }    #T_0577ffd0_c535_11ea_a2b1_a0510b4e9dfbrow8_col2 {\n",
       "            background-color:  #7093f3;\n",
       "            color:  #000000;\n",
       "        }    #T_0577ffd0_c535_11ea_a2b1_a0510b4e9dfbrow8_col3 {\n",
       "            background-color:  #ecd3c5;\n",
       "            color:  #000000;\n",
       "        }    #T_0577ffd0_c535_11ea_a2b1_a0510b4e9dfbrow8_col4 {\n",
       "            background-color:  #5470de;\n",
       "            color:  #000000;\n",
       "        }    #T_0577ffd0_c535_11ea_a2b1_a0510b4e9dfbrow8_col5 {\n",
       "            background-color:  #bcd2f7;\n",
       "            color:  #000000;\n",
       "        }    #T_0577ffd0_c535_11ea_a2b1_a0510b4e9dfbrow8_col6 {\n",
       "            background-color:  #e8d6cc;\n",
       "            color:  #000000;\n",
       "        }    #T_0577ffd0_c535_11ea_a2b1_a0510b4e9dfbrow8_col7 {\n",
       "            background-color:  #96b7ff;\n",
       "            color:  #000000;\n",
       "        }    #T_0577ffd0_c535_11ea_a2b1_a0510b4e9dfbrow8_col8 {\n",
       "            background-color:  #b40426;\n",
       "            color:  #f1f1f1;\n",
       "        }    #T_0577ffd0_c535_11ea_a2b1_a0510b4e9dfbrow8_col9 {\n",
       "            background-color:  #6485ec;\n",
       "            color:  #000000;\n",
       "        }    #T_0577ffd0_c535_11ea_a2b1_a0510b4e9dfbrow8_col10 {\n",
       "            background-color:  #f7b093;\n",
       "            color:  #000000;\n",
       "        }    #T_0577ffd0_c535_11ea_a2b1_a0510b4e9dfbrow8_col11 {\n",
       "            background-color:  #ead4c8;\n",
       "            color:  #000000;\n",
       "        }    #T_0577ffd0_c535_11ea_a2b1_a0510b4e9dfbrow9_col0 {\n",
       "            background-color:  #d5dbe5;\n",
       "            color:  #000000;\n",
       "        }    #T_0577ffd0_c535_11ea_a2b1_a0510b4e9dfbrow9_col1 {\n",
       "            background-color:  #f2cab5;\n",
       "            color:  #000000;\n",
       "        }    #T_0577ffd0_c535_11ea_a2b1_a0510b4e9dfbrow9_col2 {\n",
       "            background-color:  #4f69d9;\n",
       "            color:  #000000;\n",
       "        }    #T_0577ffd0_c535_11ea_a2b1_a0510b4e9dfbrow9_col3 {\n",
       "            background-color:  #9dbdff;\n",
       "            color:  #000000;\n",
       "        }    #T_0577ffd0_c535_11ea_a2b1_a0510b4e9dfbrow9_col4 {\n",
       "            background-color:  #7093f3;\n",
       "            color:  #000000;\n",
       "        }    #T_0577ffd0_c535_11ea_a2b1_a0510b4e9dfbrow9_col5 {\n",
       "            background-color:  #efcebd;\n",
       "            color:  #000000;\n",
       "        }    #T_0577ffd0_c535_11ea_a2b1_a0510b4e9dfbrow9_col6 {\n",
       "            background-color:  #c9d7f0;\n",
       "            color:  #000000;\n",
       "        }    #T_0577ffd0_c535_11ea_a2b1_a0510b4e9dfbrow9_col7 {\n",
       "            background-color:  #f7b89c;\n",
       "            color:  #000000;\n",
       "        }    #T_0577ffd0_c535_11ea_a2b1_a0510b4e9dfbrow9_col8 {\n",
       "            background-color:  #5d7ce6;\n",
       "            color:  #000000;\n",
       "        }    #T_0577ffd0_c535_11ea_a2b1_a0510b4e9dfbrow9_col9 {\n",
       "            background-color:  #b40426;\n",
       "            color:  #f1f1f1;\n",
       "        }    #T_0577ffd0_c535_11ea_a2b1_a0510b4e9dfbrow9_col10 {\n",
       "            background-color:  #3b4cc0;\n",
       "            color:  #f1f1f1;\n",
       "        }    #T_0577ffd0_c535_11ea_a2b1_a0510b4e9dfbrow9_col11 {\n",
       "            background-color:  #a3c2fe;\n",
       "            color:  #000000;\n",
       "        }    #T_0577ffd0_c535_11ea_a2b1_a0510b4e9dfbrow10_col0 {\n",
       "            background-color:  #5e7de7;\n",
       "            color:  #000000;\n",
       "        }    #T_0577ffd0_c535_11ea_a2b1_a0510b4e9dfbrow10_col1 {\n",
       "            background-color:  #8caffe;\n",
       "            color:  #000000;\n",
       "        }    #T_0577ffd0_c535_11ea_a2b1_a0510b4e9dfbrow10_col2 {\n",
       "            background-color:  #c6d6f1;\n",
       "            color:  #000000;\n",
       "        }    #T_0577ffd0_c535_11ea_a2b1_a0510b4e9dfbrow10_col3 {\n",
       "            background-color:  #9dbdff;\n",
       "            color:  #000000;\n",
       "        }    #T_0577ffd0_c535_11ea_a2b1_a0510b4e9dfbrow10_col4 {\n",
       "            background-color:  #9dbdff;\n",
       "            color:  #000000;\n",
       "        }    #T_0577ffd0_c535_11ea_a2b1_a0510b4e9dfbrow10_col5 {\n",
       "            background-color:  #9bbcff;\n",
       "            color:  #000000;\n",
       "        }    #T_0577ffd0_c535_11ea_a2b1_a0510b4e9dfbrow10_col6 {\n",
       "            background-color:  #ebd3c6;\n",
       "            color:  #000000;\n",
       "        }    #T_0577ffd0_c535_11ea_a2b1_a0510b4e9dfbrow10_col7 {\n",
       "            background-color:  #adc9fd;\n",
       "            color:  #000000;\n",
       "        }    #T_0577ffd0_c535_11ea_a2b1_a0510b4e9dfbrow10_col8 {\n",
       "            background-color:  #f7b396;\n",
       "            color:  #000000;\n",
       "        }    #T_0577ffd0_c535_11ea_a2b1_a0510b4e9dfbrow10_col9 {\n",
       "            background-color:  #3b4cc0;\n",
       "            color:  #f1f1f1;\n",
       "        }    #T_0577ffd0_c535_11ea_a2b1_a0510b4e9dfbrow10_col10 {\n",
       "            background-color:  #b40426;\n",
       "            color:  #f1f1f1;\n",
       "        }    #T_0577ffd0_c535_11ea_a2b1_a0510b4e9dfbrow10_col11 {\n",
       "            background-color:  #b6cefa;\n",
       "            color:  #000000;\n",
       "        }    #T_0577ffd0_c535_11ea_a2b1_a0510b4e9dfbrow11_col0 {\n",
       "            background-color:  #779af7;\n",
       "            color:  #000000;\n",
       "        }    #T_0577ffd0_c535_11ea_a2b1_a0510b4e9dfbrow11_col1 {\n",
       "            background-color:  #dcdddd;\n",
       "            color:  #000000;\n",
       "        }    #T_0577ffd0_c535_11ea_a2b1_a0510b4e9dfbrow11_col2 {\n",
       "            background-color:  #4358cb;\n",
       "            color:  #f1f1f1;\n",
       "        }    #T_0577ffd0_c535_11ea_a2b1_a0510b4e9dfbrow11_col3 {\n",
       "            background-color:  #a7c5fe;\n",
       "            color:  #000000;\n",
       "        }    #T_0577ffd0_c535_11ea_a2b1_a0510b4e9dfbrow11_col4 {\n",
       "            background-color:  #5875e1;\n",
       "            color:  #000000;\n",
       "        }    #T_0577ffd0_c535_11ea_a2b1_a0510b4e9dfbrow11_col5 {\n",
       "            background-color:  #9bbcff;\n",
       "            color:  #000000;\n",
       "        }    #T_0577ffd0_c535_11ea_a2b1_a0510b4e9dfbrow11_col6 {\n",
       "            background-color:  #d7dce3;\n",
       "            color:  #000000;\n",
       "        }    #T_0577ffd0_c535_11ea_a2b1_a0510b4e9dfbrow11_col7 {\n",
       "            background-color:  #e8d6cc;\n",
       "            color:  #000000;\n",
       "        }    #T_0577ffd0_c535_11ea_a2b1_a0510b4e9dfbrow11_col8 {\n",
       "            background-color:  #e7d7ce;\n",
       "            color:  #000000;\n",
       "        }    #T_0577ffd0_c535_11ea_a2b1_a0510b4e9dfbrow11_col9 {\n",
       "            background-color:  #a1c0ff;\n",
       "            color:  #000000;\n",
       "        }    #T_0577ffd0_c535_11ea_a2b1_a0510b4e9dfbrow11_col10 {\n",
       "            background-color:  #b5cdfa;\n",
       "            color:  #000000;\n",
       "        }    #T_0577ffd0_c535_11ea_a2b1_a0510b4e9dfbrow11_col11 {\n",
       "            background-color:  #b40426;\n",
       "            color:  #f1f1f1;\n",
       "        }</style><table id=\"T_0577ffd0_c535_11ea_a2b1_a0510b4e9dfb\" ><thead>    <tr>        <th class=\"blank level0\" ></th>        <th class=\"col_heading level0 col0\" >0</th>        <th class=\"col_heading level0 col1\" >1</th>        <th class=\"col_heading level0 col2\" >2</th>        <th class=\"col_heading level0 col3\" >3</th>        <th class=\"col_heading level0 col4\" >4</th>        <th class=\"col_heading level0 col5\" >5</th>        <th class=\"col_heading level0 col6\" >6</th>        <th class=\"col_heading level0 col7\" >7</th>        <th class=\"col_heading level0 col8\" >8</th>        <th class=\"col_heading level0 col9\" >9</th>        <th class=\"col_heading level0 col10\" >10</th>        <th class=\"col_heading level0 col11\" >11</th>    </tr></thead><tbody>\n",
       "                <tr>\n",
       "                        <th id=\"T_0577ffd0_c535_11ea_a2b1_a0510b4e9dfblevel0_row0\" class=\"row_heading level0 row0\" >0</th>\n",
       "                        <td id=\"T_0577ffd0_c535_11ea_a2b1_a0510b4e9dfbrow0_col0\" class=\"data row0 col0\" >1</td>\n",
       "                        <td id=\"T_0577ffd0_c535_11ea_a2b1_a0510b4e9dfbrow0_col1\" class=\"data row0 col1\" >0.112</td>\n",
       "                        <td id=\"T_0577ffd0_c535_11ea_a2b1_a0510b4e9dfbrow0_col2\" class=\"data row0 col2\" >0.455</td>\n",
       "                        <td id=\"T_0577ffd0_c535_11ea_a2b1_a0510b4e9dfbrow0_col3\" class=\"data row0 col3\" >-0.467</td>\n",
       "                        <td id=\"T_0577ffd0_c535_11ea_a2b1_a0510b4e9dfbrow0_col4\" class=\"data row0 col4\" >-0.317</td>\n",
       "                        <td id=\"T_0577ffd0_c535_11ea_a2b1_a0510b4e9dfbrow0_col5\" class=\"data row0 col5\" >0.0164</td>\n",
       "                        <td id=\"T_0577ffd0_c535_11ea_a2b1_a0510b4e9dfbrow0_col6\" class=\"data row0 col6\" >-0.324</td>\n",
       "                        <td id=\"T_0577ffd0_c535_11ea_a2b1_a0510b4e9dfbrow0_col7\" class=\"data row0 col7\" >-0.0415</td>\n",
       "                        <td id=\"T_0577ffd0_c535_11ea_a2b1_a0510b4e9dfbrow0_col8\" class=\"data row0 col8\" >-0.388</td>\n",
       "                        <td id=\"T_0577ffd0_c535_11ea_a2b1_a0510b4e9dfbrow0_col9\" class=\"data row0 col9\" >0.223</td>\n",
       "                        <td id=\"T_0577ffd0_c535_11ea_a2b1_a0510b4e9dfbrow0_col10\" class=\"data row0 col10\" >-0.298</td>\n",
       "                        <td id=\"T_0577ffd0_c535_11ea_a2b1_a0510b4e9dfbrow0_col11\" class=\"data row0 col11\" >-0.19</td>\n",
       "            </tr>\n",
       "            <tr>\n",
       "                        <th id=\"T_0577ffd0_c535_11ea_a2b1_a0510b4e9dfblevel0_row1\" class=\"row_heading level0 row1\" >1</th>\n",
       "                        <td id=\"T_0577ffd0_c535_11ea_a2b1_a0510b4e9dfbrow1_col0\" class=\"data row1 col0\" >0.112</td>\n",
       "                        <td id=\"T_0577ffd0_c535_11ea_a2b1_a0510b4e9dfbrow1_col1\" class=\"data row1 col1\" >1</td>\n",
       "                        <td id=\"T_0577ffd0_c535_11ea_a2b1_a0510b4e9dfbrow1_col2\" class=\"data row1 col2\" >-0.45</td>\n",
       "                        <td id=\"T_0577ffd0_c535_11ea_a2b1_a0510b4e9dfbrow1_col3\" class=\"data row1 col3\" >0.448</td>\n",
       "                        <td id=\"T_0577ffd0_c535_11ea_a2b1_a0510b4e9dfbrow1_col4\" class=\"data row1 col4\" >-0.279</td>\n",
       "                        <td id=\"T_0577ffd0_c535_11ea_a2b1_a0510b4e9dfbrow1_col5\" class=\"data row1 col5\" >0.124</td>\n",
       "                        <td id=\"T_0577ffd0_c535_11ea_a2b1_a0510b4e9dfbrow1_col6\" class=\"data row1 col6\" >0.0317</td>\n",
       "                        <td id=\"T_0577ffd0_c535_11ea_a2b1_a0510b4e9dfbrow1_col7\" class=\"data row1 col7\" >0.088</td>\n",
       "                        <td id=\"T_0577ffd0_c535_11ea_a2b1_a0510b4e9dfbrow1_col8\" class=\"data row1 col8\" >0.465</td>\n",
       "                        <td id=\"T_0577ffd0_c535_11ea_a2b1_a0510b4e9dfbrow1_col9\" class=\"data row1 col9\" >0.423</td>\n",
       "                        <td id=\"T_0577ffd0_c535_11ea_a2b1_a0510b4e9dfbrow1_col10\" class=\"data row1 col10\" >-0.0899</td>\n",
       "                        <td id=\"T_0577ffd0_c535_11ea_a2b1_a0510b4e9dfbrow1_col11\" class=\"data row1 col11\" >0.272</td>\n",
       "            </tr>\n",
       "            <tr>\n",
       "                        <th id=\"T_0577ffd0_c535_11ea_a2b1_a0510b4e9dfblevel0_row2\" class=\"row_heading level0 row2\" >2</th>\n",
       "                        <td id=\"T_0577ffd0_c535_11ea_a2b1_a0510b4e9dfbrow2_col0\" class=\"data row2 col0\" >0.455</td>\n",
       "                        <td id=\"T_0577ffd0_c535_11ea_a2b1_a0510b4e9dfbrow2_col1\" class=\"data row2 col1\" >-0.45</td>\n",
       "                        <td id=\"T_0577ffd0_c535_11ea_a2b1_a0510b4e9dfbrow2_col2\" class=\"data row2 col2\" >1</td>\n",
       "                        <td id=\"T_0577ffd0_c535_11ea_a2b1_a0510b4e9dfbrow2_col3\" class=\"data row2 col3\" >-0.101</td>\n",
       "                        <td id=\"T_0577ffd0_c535_11ea_a2b1_a0510b4e9dfbrow2_col4\" class=\"data row2 col4\" >0.136</td>\n",
       "                        <td id=\"T_0577ffd0_c535_11ea_a2b1_a0510b4e9dfbrow2_col5\" class=\"data row2 col5\" >-0.289</td>\n",
       "                        <td id=\"T_0577ffd0_c535_11ea_a2b1_a0510b4e9dfbrow2_col6\" class=\"data row2 col6\" >-0.153</td>\n",
       "                        <td id=\"T_0577ffd0_c535_11ea_a2b1_a0510b4e9dfbrow2_col7\" class=\"data row2 col7\" >-0.484</td>\n",
       "                        <td id=\"T_0577ffd0_c535_11ea_a2b1_a0510b4e9dfbrow2_col8\" class=\"data row2 col8\" >-0.234</td>\n",
       "                        <td id=\"T_0577ffd0_c535_11ea_a2b1_a0510b4e9dfbrow2_col9\" class=\"data row2 col9\" >-0.384</td>\n",
       "                        <td id=\"T_0577ffd0_c535_11ea_a2b1_a0510b4e9dfbrow2_col10\" class=\"data row2 col10\" >0.139</td>\n",
       "                        <td id=\"T_0577ffd0_c535_11ea_a2b1_a0510b4e9dfbrow2_col11\" class=\"data row2 col11\" >-0.44</td>\n",
       "            </tr>\n",
       "            <tr>\n",
       "                        <th id=\"T_0577ffd0_c535_11ea_a2b1_a0510b4e9dfblevel0_row3\" class=\"row_heading level0 row3\" >3</th>\n",
       "                        <td id=\"T_0577ffd0_c535_11ea_a2b1_a0510b4e9dfbrow3_col0\" class=\"data row3 col0\" >-0.467</td>\n",
       "                        <td id=\"T_0577ffd0_c535_11ea_a2b1_a0510b4e9dfbrow3_col1\" class=\"data row3 col1\" >0.448</td>\n",
       "                        <td id=\"T_0577ffd0_c535_11ea_a2b1_a0510b4e9dfbrow3_col2\" class=\"data row3 col2\" >-0.101</td>\n",
       "                        <td id=\"T_0577ffd0_c535_11ea_a2b1_a0510b4e9dfbrow3_col3\" class=\"data row3 col3\" >1</td>\n",
       "                        <td id=\"T_0577ffd0_c535_11ea_a2b1_a0510b4e9dfbrow3_col4\" class=\"data row3 col4\" >0.302</td>\n",
       "                        <td id=\"T_0577ffd0_c535_11ea_a2b1_a0510b4e9dfbrow3_col5\" class=\"data row3 col5\" >-0.0616</td>\n",
       "                        <td id=\"T_0577ffd0_c535_11ea_a2b1_a0510b4e9dfbrow3_col6\" class=\"data row3 col6\" >-0.173</td>\n",
       "                        <td id=\"T_0577ffd0_c535_11ea_a2b1_a0510b4e9dfbrow3_col7\" class=\"data row3 col7\" >-0.111</td>\n",
       "                        <td id=\"T_0577ffd0_c535_11ea_a2b1_a0510b4e9dfbrow3_col8\" class=\"data row3 col8\" >0.358</td>\n",
       "                        <td id=\"T_0577ffd0_c535_11ea_a2b1_a0510b4e9dfbrow3_col9\" class=\"data row3 col9\" >-0.0369</td>\n",
       "                        <td id=\"T_0577ffd0_c535_11ea_a2b1_a0510b4e9dfbrow3_col10\" class=\"data row3 col10\" >-0.0346</td>\n",
       "                        <td id=\"T_0577ffd0_c535_11ea_a2b1_a0510b4e9dfbrow3_col11\" class=\"data row3 col11\" >0.0133</td>\n",
       "            </tr>\n",
       "            <tr>\n",
       "                        <th id=\"T_0577ffd0_c535_11ea_a2b1_a0510b4e9dfblevel0_row4\" class=\"row_heading level0 row4\" >4</th>\n",
       "                        <td id=\"T_0577ffd0_c535_11ea_a2b1_a0510b4e9dfbrow4_col0\" class=\"data row4 col0\" >-0.317</td>\n",
       "                        <td id=\"T_0577ffd0_c535_11ea_a2b1_a0510b4e9dfbrow4_col1\" class=\"data row4 col1\" >-0.279</td>\n",
       "                        <td id=\"T_0577ffd0_c535_11ea_a2b1_a0510b4e9dfbrow4_col2\" class=\"data row4 col2\" >0.136</td>\n",
       "                        <td id=\"T_0577ffd0_c535_11ea_a2b1_a0510b4e9dfbrow4_col3\" class=\"data row4 col3\" >0.302</td>\n",
       "                        <td id=\"T_0577ffd0_c535_11ea_a2b1_a0510b4e9dfbrow4_col4\" class=\"data row4 col4\" >1</td>\n",
       "                        <td id=\"T_0577ffd0_c535_11ea_a2b1_a0510b4e9dfbrow4_col5\" class=\"data row4 col5\" >-0.388</td>\n",
       "                        <td id=\"T_0577ffd0_c535_11ea_a2b1_a0510b4e9dfbrow4_col6\" class=\"data row4 col6\" >-0.279</td>\n",
       "                        <td id=\"T_0577ffd0_c535_11ea_a2b1_a0510b4e9dfbrow4_col7\" class=\"data row4 col7\" >-0.0225</td>\n",
       "                        <td id=\"T_0577ffd0_c535_11ea_a2b1_a0510b4e9dfbrow4_col8\" class=\"data row4 col8\" >-0.27</td>\n",
       "                        <td id=\"T_0577ffd0_c535_11ea_a2b1_a0510b4e9dfbrow4_col9\" class=\"data row4 col9\" >-0.153</td>\n",
       "                        <td id=\"T_0577ffd0_c535_11ea_a2b1_a0510b4e9dfbrow4_col10\" class=\"data row4 col10\" >0.0217</td>\n",
       "                        <td id=\"T_0577ffd0_c535_11ea_a2b1_a0510b4e9dfbrow4_col11\" class=\"data row4 col11\" >-0.256</td>\n",
       "            </tr>\n",
       "            <tr>\n",
       "                        <th id=\"T_0577ffd0_c535_11ea_a2b1_a0510b4e9dfblevel0_row5\" class=\"row_heading level0 row5\" >5</th>\n",
       "                        <td id=\"T_0577ffd0_c535_11ea_a2b1_a0510b4e9dfbrow5_col0\" class=\"data row5 col0\" >0.0164</td>\n",
       "                        <td id=\"T_0577ffd0_c535_11ea_a2b1_a0510b4e9dfbrow5_col1\" class=\"data row5 col1\" >0.124</td>\n",
       "                        <td id=\"T_0577ffd0_c535_11ea_a2b1_a0510b4e9dfbrow5_col2\" class=\"data row5 col2\" >-0.289</td>\n",
       "                        <td id=\"T_0577ffd0_c535_11ea_a2b1_a0510b4e9dfbrow5_col3\" class=\"data row5 col3\" >-0.0616</td>\n",
       "                        <td id=\"T_0577ffd0_c535_11ea_a2b1_a0510b4e9dfbrow5_col4\" class=\"data row5 col4\" >-0.388</td>\n",
       "                        <td id=\"T_0577ffd0_c535_11ea_a2b1_a0510b4e9dfbrow5_col5\" class=\"data row5 col5\" >1</td>\n",
       "                        <td id=\"T_0577ffd0_c535_11ea_a2b1_a0510b4e9dfbrow5_col6\" class=\"data row5 col6\" >0.0248</td>\n",
       "                        <td id=\"T_0577ffd0_c535_11ea_a2b1_a0510b4e9dfbrow5_col7\" class=\"data row5 col7\" >0.47</td>\n",
       "                        <td id=\"T_0577ffd0_c535_11ea_a2b1_a0510b4e9dfbrow5_col8\" class=\"data row5 col8\" >0.153</td>\n",
       "                        <td id=\"T_0577ffd0_c535_11ea_a2b1_a0510b4e9dfbrow5_col9\" class=\"data row5 col9\" >0.425</td>\n",
       "                        <td id=\"T_0577ffd0_c535_11ea_a2b1_a0510b4e9dfbrow5_col10\" class=\"data row5 col10\" >0.0158</td>\n",
       "                        <td id=\"T_0577ffd0_c535_11ea_a2b1_a0510b4e9dfbrow5_col11\" class=\"data row5 col11\" >0.0152</td>\n",
       "            </tr>\n",
       "            <tr>\n",
       "                        <th id=\"T_0577ffd0_c535_11ea_a2b1_a0510b4e9dfblevel0_row6\" class=\"row_heading level0 row6\" >6</th>\n",
       "                        <td id=\"T_0577ffd0_c535_11ea_a2b1_a0510b4e9dfbrow6_col0\" class=\"data row6 col0\" >-0.324</td>\n",
       "                        <td id=\"T_0577ffd0_c535_11ea_a2b1_a0510b4e9dfbrow6_col1\" class=\"data row6 col1\" >0.0317</td>\n",
       "                        <td id=\"T_0577ffd0_c535_11ea_a2b1_a0510b4e9dfbrow6_col2\" class=\"data row6 col2\" >-0.153</td>\n",
       "                        <td id=\"T_0577ffd0_c535_11ea_a2b1_a0510b4e9dfbrow6_col3\" class=\"data row6 col3\" >-0.173</td>\n",
       "                        <td id=\"T_0577ffd0_c535_11ea_a2b1_a0510b4e9dfbrow6_col4\" class=\"data row6 col4\" >-0.279</td>\n",
       "                        <td id=\"T_0577ffd0_c535_11ea_a2b1_a0510b4e9dfbrow6_col5\" class=\"data row6 col5\" >0.0248</td>\n",
       "                        <td id=\"T_0577ffd0_c535_11ea_a2b1_a0510b4e9dfbrow6_col6\" class=\"data row6 col6\" >1</td>\n",
       "                        <td id=\"T_0577ffd0_c535_11ea_a2b1_a0510b4e9dfbrow6_col7\" class=\"data row6 col7\" >0.102</td>\n",
       "                        <td id=\"T_0577ffd0_c535_11ea_a2b1_a0510b4e9dfbrow6_col8\" class=\"data row6 col8\" >0.397</td>\n",
       "                        <td id=\"T_0577ffd0_c535_11ea_a2b1_a0510b4e9dfbrow6_col9\" class=\"data row6 col9\" >0.241</td>\n",
       "                        <td id=\"T_0577ffd0_c535_11ea_a2b1_a0510b4e9dfbrow6_col10\" class=\"data row6 col10\" >0.42</td>\n",
       "                        <td id=\"T_0577ffd0_c535_11ea_a2b1_a0510b4e9dfbrow6_col11\" class=\"data row6 col11\" >0.312</td>\n",
       "            </tr>\n",
       "            <tr>\n",
       "                        <th id=\"T_0577ffd0_c535_11ea_a2b1_a0510b4e9dfblevel0_row7\" class=\"row_heading level0 row7\" >7</th>\n",
       "                        <td id=\"T_0577ffd0_c535_11ea_a2b1_a0510b4e9dfbrow7_col0\" class=\"data row7 col0\" >-0.0415</td>\n",
       "                        <td id=\"T_0577ffd0_c535_11ea_a2b1_a0510b4e9dfbrow7_col1\" class=\"data row7 col1\" >0.088</td>\n",
       "                        <td id=\"T_0577ffd0_c535_11ea_a2b1_a0510b4e9dfbrow7_col2\" class=\"data row7 col2\" >-0.484</td>\n",
       "                        <td id=\"T_0577ffd0_c535_11ea_a2b1_a0510b4e9dfbrow7_col3\" class=\"data row7 col3\" >-0.111</td>\n",
       "                        <td id=\"T_0577ffd0_c535_11ea_a2b1_a0510b4e9dfbrow7_col4\" class=\"data row7 col4\" >-0.0225</td>\n",
       "                        <td id=\"T_0577ffd0_c535_11ea_a2b1_a0510b4e9dfbrow7_col5\" class=\"data row7 col5\" >0.47</td>\n",
       "                        <td id=\"T_0577ffd0_c535_11ea_a2b1_a0510b4e9dfbrow7_col6\" class=\"data row7 col6\" >0.102</td>\n",
       "                        <td id=\"T_0577ffd0_c535_11ea_a2b1_a0510b4e9dfbrow7_col7\" class=\"data row7 col7\" >1</td>\n",
       "                        <td id=\"T_0577ffd0_c535_11ea_a2b1_a0510b4e9dfbrow7_col8\" class=\"data row7 col8\" >-0.0768</td>\n",
       "                        <td id=\"T_0577ffd0_c535_11ea_a2b1_a0510b4e9dfbrow7_col9\" class=\"data row7 col9\" >0.505</td>\n",
       "                        <td id=\"T_0577ffd0_c535_11ea_a2b1_a0510b4e9dfbrow7_col10\" class=\"data row7 col10\" >0.0222</td>\n",
       "                        <td id=\"T_0577ffd0_c535_11ea_a2b1_a0510b4e9dfbrow7_col11\" class=\"data row7 col11\" >0.323</td>\n",
       "            </tr>\n",
       "            <tr>\n",
       "                        <th id=\"T_0577ffd0_c535_11ea_a2b1_a0510b4e9dfblevel0_row8\" class=\"row_heading level0 row8\" >8</th>\n",
       "                        <td id=\"T_0577ffd0_c535_11ea_a2b1_a0510b4e9dfbrow8_col0\" class=\"data row8 col0\" >-0.388</td>\n",
       "                        <td id=\"T_0577ffd0_c535_11ea_a2b1_a0510b4e9dfbrow8_col1\" class=\"data row8 col1\" >0.465</td>\n",
       "                        <td id=\"T_0577ffd0_c535_11ea_a2b1_a0510b4e9dfbrow8_col2\" class=\"data row8 col2\" >-0.234</td>\n",
       "                        <td id=\"T_0577ffd0_c535_11ea_a2b1_a0510b4e9dfbrow8_col3\" class=\"data row8 col3\" >0.358</td>\n",
       "                        <td id=\"T_0577ffd0_c535_11ea_a2b1_a0510b4e9dfbrow8_col4\" class=\"data row8 col4\" >-0.27</td>\n",
       "                        <td id=\"T_0577ffd0_c535_11ea_a2b1_a0510b4e9dfbrow8_col5\" class=\"data row8 col5\" >0.153</td>\n",
       "                        <td id=\"T_0577ffd0_c535_11ea_a2b1_a0510b4e9dfbrow8_col6\" class=\"data row8 col6\" >0.397</td>\n",
       "                        <td id=\"T_0577ffd0_c535_11ea_a2b1_a0510b4e9dfbrow8_col7\" class=\"data row8 col7\" >-0.0768</td>\n",
       "                        <td id=\"T_0577ffd0_c535_11ea_a2b1_a0510b4e9dfbrow8_col8\" class=\"data row8 col8\" >1</td>\n",
       "                        <td id=\"T_0577ffd0_c535_11ea_a2b1_a0510b4e9dfbrow8_col9\" class=\"data row8 col9\" >-0.236</td>\n",
       "                        <td id=\"T_0577ffd0_c535_11ea_a2b1_a0510b4e9dfbrow8_col10\" class=\"data row8 col10\" >0.556</td>\n",
       "                        <td id=\"T_0577ffd0_c535_11ea_a2b1_a0510b4e9dfbrow8_col11\" class=\"data row8 col11\" >0.364</td>\n",
       "            </tr>\n",
       "            <tr>\n",
       "                        <th id=\"T_0577ffd0_c535_11ea_a2b1_a0510b4e9dfblevel0_row9\" class=\"row_heading level0 row9\" >9</th>\n",
       "                        <td id=\"T_0577ffd0_c535_11ea_a2b1_a0510b4e9dfbrow9_col0\" class=\"data row9 col0\" >0.223</td>\n",
       "                        <td id=\"T_0577ffd0_c535_11ea_a2b1_a0510b4e9dfbrow9_col1\" class=\"data row9 col1\" >0.423</td>\n",
       "                        <td id=\"T_0577ffd0_c535_11ea_a2b1_a0510b4e9dfbrow9_col2\" class=\"data row9 col2\" >-0.384</td>\n",
       "                        <td id=\"T_0577ffd0_c535_11ea_a2b1_a0510b4e9dfbrow9_col3\" class=\"data row9 col3\" >-0.0369</td>\n",
       "                        <td id=\"T_0577ffd0_c535_11ea_a2b1_a0510b4e9dfbrow9_col4\" class=\"data row9 col4\" >-0.153</td>\n",
       "                        <td id=\"T_0577ffd0_c535_11ea_a2b1_a0510b4e9dfbrow9_col5\" class=\"data row9 col5\" >0.425</td>\n",
       "                        <td id=\"T_0577ffd0_c535_11ea_a2b1_a0510b4e9dfbrow9_col6\" class=\"data row9 col6\" >0.241</td>\n",
       "                        <td id=\"T_0577ffd0_c535_11ea_a2b1_a0510b4e9dfbrow9_col7\" class=\"data row9 col7\" >0.505</td>\n",
       "                        <td id=\"T_0577ffd0_c535_11ea_a2b1_a0510b4e9dfbrow9_col8\" class=\"data row9 col8\" >-0.236</td>\n",
       "                        <td id=\"T_0577ffd0_c535_11ea_a2b1_a0510b4e9dfbrow9_col9\" class=\"data row9 col9\" >1</td>\n",
       "                        <td id=\"T_0577ffd0_c535_11ea_a2b1_a0510b4e9dfbrow9_col10\" class=\"data row9 col10\" >-0.429</td>\n",
       "                        <td id=\"T_0577ffd0_c535_11ea_a2b1_a0510b4e9dfbrow9_col11\" class=\"data row9 col11\" >0.0101</td>\n",
       "            </tr>\n",
       "            <tr>\n",
       "                        <th id=\"T_0577ffd0_c535_11ea_a2b1_a0510b4e9dfblevel0_row10\" class=\"row_heading level0 row10\" >10</th>\n",
       "                        <td id=\"T_0577ffd0_c535_11ea_a2b1_a0510b4e9dfbrow10_col0\" class=\"data row10 col0\" >-0.298</td>\n",
       "                        <td id=\"T_0577ffd0_c535_11ea_a2b1_a0510b4e9dfbrow10_col1\" class=\"data row10 col1\" >-0.0899</td>\n",
       "                        <td id=\"T_0577ffd0_c535_11ea_a2b1_a0510b4e9dfbrow10_col2\" class=\"data row10 col2\" >0.139</td>\n",
       "                        <td id=\"T_0577ffd0_c535_11ea_a2b1_a0510b4e9dfbrow10_col3\" class=\"data row10 col3\" >-0.0346</td>\n",
       "                        <td id=\"T_0577ffd0_c535_11ea_a2b1_a0510b4e9dfbrow10_col4\" class=\"data row10 col4\" >0.0217</td>\n",
       "                        <td id=\"T_0577ffd0_c535_11ea_a2b1_a0510b4e9dfbrow10_col5\" class=\"data row10 col5\" >0.0158</td>\n",
       "                        <td id=\"T_0577ffd0_c535_11ea_a2b1_a0510b4e9dfbrow10_col6\" class=\"data row10 col6\" >0.42</td>\n",
       "                        <td id=\"T_0577ffd0_c535_11ea_a2b1_a0510b4e9dfbrow10_col7\" class=\"data row10 col7\" >0.0222</td>\n",
       "                        <td id=\"T_0577ffd0_c535_11ea_a2b1_a0510b4e9dfbrow10_col8\" class=\"data row10 col8\" >0.556</td>\n",
       "                        <td id=\"T_0577ffd0_c535_11ea_a2b1_a0510b4e9dfbrow10_col9\" class=\"data row10 col9\" >-0.429</td>\n",
       "                        <td id=\"T_0577ffd0_c535_11ea_a2b1_a0510b4e9dfbrow10_col10\" class=\"data row10 col10\" >1</td>\n",
       "                        <td id=\"T_0577ffd0_c535_11ea_a2b1_a0510b4e9dfbrow10_col11\" class=\"data row10 col11\" >0.0932</td>\n",
       "            </tr>\n",
       "            <tr>\n",
       "                        <th id=\"T_0577ffd0_c535_11ea_a2b1_a0510b4e9dfblevel0_row11\" class=\"row_heading level0 row11\" >11</th>\n",
       "                        <td id=\"T_0577ffd0_c535_11ea_a2b1_a0510b4e9dfbrow11_col0\" class=\"data row11 col0\" >-0.19</td>\n",
       "                        <td id=\"T_0577ffd0_c535_11ea_a2b1_a0510b4e9dfbrow11_col1\" class=\"data row11 col1\" >0.272</td>\n",
       "                        <td id=\"T_0577ffd0_c535_11ea_a2b1_a0510b4e9dfbrow11_col2\" class=\"data row11 col2\" >-0.44</td>\n",
       "                        <td id=\"T_0577ffd0_c535_11ea_a2b1_a0510b4e9dfbrow11_col3\" class=\"data row11 col3\" >0.0133</td>\n",
       "                        <td id=\"T_0577ffd0_c535_11ea_a2b1_a0510b4e9dfbrow11_col4\" class=\"data row11 col4\" >-0.256</td>\n",
       "                        <td id=\"T_0577ffd0_c535_11ea_a2b1_a0510b4e9dfbrow11_col5\" class=\"data row11 col5\" >0.0152</td>\n",
       "                        <td id=\"T_0577ffd0_c535_11ea_a2b1_a0510b4e9dfbrow11_col6\" class=\"data row11 col6\" >0.312</td>\n",
       "                        <td id=\"T_0577ffd0_c535_11ea_a2b1_a0510b4e9dfbrow11_col7\" class=\"data row11 col7\" >0.323</td>\n",
       "                        <td id=\"T_0577ffd0_c535_11ea_a2b1_a0510b4e9dfbrow11_col8\" class=\"data row11 col8\" >0.364</td>\n",
       "                        <td id=\"T_0577ffd0_c535_11ea_a2b1_a0510b4e9dfbrow11_col9\" class=\"data row11 col9\" >0.0101</td>\n",
       "                        <td id=\"T_0577ffd0_c535_11ea_a2b1_a0510b4e9dfbrow11_col10\" class=\"data row11 col10\" >0.0932</td>\n",
       "                        <td id=\"T_0577ffd0_c535_11ea_a2b1_a0510b4e9dfbrow11_col11\" class=\"data row11 col11\" >1</td>\n",
       "            </tr>\n",
       "    </tbody></table>"
      ],
      "text/plain": [
       "<pandas.io.formats.style.Styler at 0x17db1e22248>"
      ]
     },
     "execution_count": 12,
     "metadata": {},
     "output_type": "execute_result"
    }
   ],
   "source": [
    "rs = np.random.RandomState(0)\n",
    "df = pd.DataFrame(rs.rand(12, 12))\n",
    "corr = df.corr()\n",
    "corr.style.background_gradient(cmap='coolwarm').set_precision(3)"
   ]
  },
  {
   "cell_type": "markdown",
   "metadata": {},
   "source": [
    "## <font color='darkblue'>1.2 Extract, Transform and Load (ETL)</font>\n",
    "\n",
    "As we have seen before, we will be working with structured public data. So, the data will be handled and analyzed first in a Pandas Data Frame for:\n",
    "\n",
    "- Selecting useful features for modeling\n",
    "- Dropping columns or rows with low relevance \n",
    "- Dropping repeated values in the ID column\n",
    "\n",
    "One of the other steps taken in this section will be a transformation to RDD format for increasing the scope of the analysis and being able to make SQL queries when the data is processed and available for downstream analytics.\n",
    "\n",
    "Since this is not a streaming data, the analysis will be made on the entire data set (no need for batches or windows) , stored, processed and analyzed locally."
   ]
  },
  {
   "cell_type": "markdown",
   "metadata": {},
   "source": [
    "### <font color='darkblue'>1.2.1 Initializing the Spark Context</font>\n",
    "\n",
    "In this section we will be initializing the Spark Context."
   ]
  },
  {
   "cell_type": "code",
   "execution_count": 13,
   "metadata": {},
   "outputs": [],
   "source": [
    "import os\n",
    "import sys\n",
    "# NOTE: Please change the folder paths to your current setup.\n",
    "#Windows\n",
    "if sys.platform.startswith('win'):\n",
    "    #Where you downloaded the resource bundle\n",
    "    os.chdir(\"C:/Users/pablo/Desktop/Apache Spark & Python/Resources\")\n",
    "    #Where you installed spark.    \n",
    "    os.environ['SPARK_HOME'] = 'C:/Spark/spark-2.4.5-bin-hadoop2.7'\n",
    "#other platforms - linux/mac\n",
    "else:\n",
    "    os.chdir(\"/Users/kponnambalam/Dropbox/V2Maestros/Modules/Apache Spark/Python\")\n",
    "    os.environ['SPARK_HOME'] = '/users/kponnambalam/products/spark-2.0.0-bin-hadoop2.7'\n",
    "os.curdir\n",
    "# Create a variable for our root path\n",
    "SPARK_HOME = os.environ['SPARK_HOME']\n",
    "#Add the following paths to the system path. Please check your installation\n",
    "#to make sure that these zip files actually exist. The names might change\n",
    "#as versions change.\n",
    "sys.path.insert(0,os.path.join(SPARK_HOME,\"python\"))\n",
    "sys.path.insert(0,os.path.join(SPARK_HOME,\"python\",\"lib\"))\n",
    "sys.path.insert(0,os.path.join(SPARK_HOME,\"python\",\"lib\",\"pyspark.zip\"))\n",
    "sys.path.insert(0,os.path.join(SPARK_HOME,\"python\",\"lib\",\"py4j-0.10.7-src.zip\"))\n",
    "#Initialize SparkSession and SparkContext\n",
    "from pyspark.sql import SparkSession\n",
    "from pyspark import SparkContext\n",
    "#Create a Spark Session\n",
    "spark = SparkSession \\\n",
    "    .builder \\\n",
    "    .master(\"local[2]\") \\\n",
    "    .appName(\"Pablovic Science\") \\\n",
    "    .config(\"spark.executor.memory\", \"1g\") \\\n",
    "    .config(\"spark.cores.max\",\"2\") \\\n",
    "    .config(\"spark.sql.warehouse.dir\", \"file:///c:/temp/spark-warehouse\")\\\n",
    "    .getOrCreate()   \n",
    "#Get the Spark Context from Spark Session    \n",
    "SpContext = spark.sparkContext"
   ]
  },
  {
   "cell_type": "markdown",
   "metadata": {},
   "source": [
    "### <font color='darkblue'>1.2.2 Creating RDD's</font>\n",
    "\n",
    "In this section we will be creating the RDDs for the training data (features) and labels."
   ]
  },
  {
   "cell_type": "code",
   "execution_count": 14,
   "metadata": {},
   "outputs": [],
   "source": [
    "#Creating Initial Raw RDD for training data\n",
    "train_RDD_raw = spark.createDataFrame(train_df_read)\n",
    "labels_RDD_raw = spark.createDataFrame(pd.DataFrame(labels_df_read))"
   ]
  },
  {
   "cell_type": "markdown",
   "metadata": {},
   "source": [
    "Visualizing Raw Training RDD (features)"
   ]
  },
  {
   "cell_type": "code",
   "execution_count": 15,
   "metadata": {},
   "outputs": [
    {
     "name": "stdout",
     "output_type": "stream",
     "text": [
      "+-----+--------+--------+----------+---------+-------+-----+--------+--------+--------+-------+------------------+----+\n",
      "|age_c|assess_c|cancer_c|compfilm_c|density_c|famhx_c|hrt_c|prvmam_c|biophx_c|mammtype|CaTypeO|             bmi_c|ptid|\n",
      "+-----+--------+--------+----------+---------+-------+-----+--------+--------+--------+-------+------------------+----+\n",
      "|   62|       1|       0|         1|        2|      0|    0|       1|       0|       1|      8|        24.0235443|   1|\n",
      "|   65|       1|       0|         1|        4|      0|    0|       1|       0|       1|      8|             -99.0|   2|\n",
      "|   69|       0|       0|         1|        2|      0|    0|       1|       0|       1|      8|29.052429200000002|   3|\n",
      "|   64|       2|       0|         1|        2|      0|    0|       1|       0|       1|      8|             -99.0|   4|\n",
      "|   63|       3|       0|         1|        2|      0|    0|       1|       1|       1|      8|33.729522700000004|   5|\n",
      "+-----+--------+--------+----------+---------+-------+-----+--------+--------+--------+-------+------------------+----+\n",
      "only showing top 5 rows\n",
      "\n"
     ]
    }
   ],
   "source": [
    "train_RDD_raw.show(5)"
   ]
  },
  {
   "cell_type": "markdown",
   "metadata": {},
   "source": [
    "Visualizing Raw Labels RDD"
   ]
  },
  {
   "cell_type": "code",
   "execution_count": 16,
   "metadata": {},
   "outputs": [
    {
     "name": "stdout",
     "output_type": "stream",
     "text": [
      "+--------+\n",
      "|cancer_c|\n",
      "+--------+\n",
      "|       0|\n",
      "|       0|\n",
      "|       0|\n",
      "|       0|\n",
      "|       0|\n",
      "+--------+\n",
      "only showing top 5 rows\n",
      "\n"
     ]
    }
   ],
   "source": [
    "labels_RDD_raw.show(5)"
   ]
  },
  {
   "cell_type": "markdown",
   "metadata": {},
   "source": [
    "### <font color='darkblue'>1.2.3 Data Cleansing</font>\n",
    "\n",
    "Data Cleansing will be based on the findings made in 1.1.3 Data Insights and other relevant aspects based on clinical and medical knowledge. A brief justification before 1.2.3.1 Feature Engineering will be explained in this section and some SQL queries will also be included for getting more insights of possible advantages in features that could help the model selection and training."
   ]
  },
  {
   "cell_type": "markdown",
   "metadata": {},
   "source": [
    "##### Features Included in The Model\n",
    "\n",
    "- `age_c` will be considered since age is a clinical feature relevant for the cancer diagnosis and mammography evaluation.\n",
    "- `asses_c` will be considered since this is a technical evaluation made on site (clinic or hospital) that can give guidelines and insights on a patient status.\n",
    "- `density_c` is a critical clinical feature that has direct relationship with breast tumors, so it will be included.\n",
    "- `famhx_c` is a critical genetic feature that has direct relationship with breast cancer, so it will be included.\n",
    "- `biophx_c` since biopsy is a method for second analysis in breast tumors, and due to the correlation of this feature among the others, this feature is going to be included in in the model.\n",
    "- `bmi_c` will be included since the BMI can be a very important clinical feature that can provide insights in the overall patient's health condition. The way to treat with the missing values in this feature will be covered by \"mean imputation\", since, there are a lot of patients who's BMI is not registered.\n",
    "\n",
    "##### Features Not Included in The Model\n",
    "\n",
    "- `compfilm_c` since the result in previous mammograms is not revealed in the data set, there is no way to make a cross validation. Therefore, this feature will not be included in the model.\n",
    "- `hrt_c` hormone treatment is considered to be a treatment for reducing breast (and other types of) cancer tumors, therefore, in order to unbias the model, we will not include this feature in the train set.\n",
    "- `prvmam_c` is not going to be included in the training since this is a variable that not influence in cancer prediction and can bias the model (cancer detection can be spotted in the first mammogram received by someone).\n",
    "- `mammtype` In this project, it will be assumed that both technologies (analog and DR) are suitable for cancer detection. Therefore, this feature will not be included in the model.\n",
    "- `CaTypeO` cancer type is not going to be included in the model since this have a direct correlation with the cancer diagnosis. And the main scope of the project is detecting patients with cancer (1) or no cancer (0).\n",
    "- `ptid` will not be included in the model since this feature has no clinical relevance at all. Nevertheless, there are repeated ID values that need to be cleansed in the data set.\n",
    "\n",
    "##### Labels\n",
    "\n",
    "- `cancer_c` will be the labels for training set. These labels will not be included in the test set."
   ]
  },
  {
   "cell_type": "markdown",
   "metadata": {},
   "source": [
    "### <font color='darkblue'>1.2.3.1 Data Preparation</font>\n",
    "\n",
    "Some of the data preparation will be done on the initial python pandas Data Frame for simplicity and low computational requirement. The Spark RDD's will be used for modeling, training and evaluating the model."
   ]
  },
  {
   "cell_type": "markdown",
   "metadata": {},
   "source": [
    "Even though that the Patient's ID (`ptid`) will not be included in the model, we need to identify the repeated cases for this feature. A repeated patient ID would suggest that the same patient is registered twice, therefore, to reduce ambiguity, we decided drop all rows which have repeated ID's and measure the impact on class balance."
   ]
  },
  {
   "cell_type": "code",
   "execution_count": 17,
   "metadata": {},
   "outputs": [
    {
     "name": "stdout",
     "output_type": "stream",
     "text": [
      "Total Patients Classified\n",
      "#########################\n",
      "cancer_c\n",
      "0    39741\n",
      "1      259\n",
      "dtype: int64\n",
      "\n",
      "Patients Classified When Dropping Repeated ID's\n",
      "###############################################\n",
      "cancer_c\n",
      "0    36468\n",
      "1      246\n",
      "dtype: int64\n",
      " \n",
      "Are the ID values unique now?  True\n"
     ]
    }
   ],
   "source": [
    "#Dropping repeated values for patient ID's (keeping the first instance)\n",
    "train_df_UID = train_df_read.drop_duplicates(subset=['ptid'], keep='first').reset_index(drop=True)\n",
    "print(\"Total Patients Classified\")\n",
    "print(\"#########################\")\n",
    "print(train_df_read.groupby(['cancer_c']).size())\n",
    "print(\"\")\n",
    "print(\"Patients Classified When Dropping Repeated ID's\")\n",
    "print(\"###############################################\")\n",
    "print(train_df_UID.groupby(['cancer_c']).size())\n",
    "print(\" \")\n",
    "print(\"Are the ID values unique now? \", train_df_UID[\"ptid\"].is_unique)"
   ]
  },
  {
   "cell_type": "markdown",
   "metadata": {},
   "source": [
    "As we can see the dropouts in Class 0 are almost 3,300 patients (<9%) and the dropouts  in Class 1 are 13 (almost 5%). \n",
    "\n",
    "**The net effect on dropping patients with repeated ID's is estimated to be less than considering them into the model.**\n",
    "\n",
    "One important insight with this data processing exercise is the high discrepancy in the percentage of patients classified as Class 0 (non cancer) with respect to those patients classified as Class 1 (cancer). 36,468 and 246 respectively. This brings the need to deal with class imbalance in future sections in the project."
   ]
  },
  {
   "cell_type": "markdown",
   "metadata": {},
   "source": [
    "With respect to `famhx_c` and `biophx_c`. We can see that, according to 1.1.3 Data Insights, we have 228 and 815 missing values respectively. \n",
    "\n",
    "Since these variables can be critical in medical outcome and can have high impact on cancer detection, we are going to drop the columns were there were no values registered and evaluate the impact on each class in terms of balance."
   ]
  },
  {
   "cell_type": "code",
   "execution_count": 18,
   "metadata": {},
   "outputs": [
    {
     "name": "stderr",
     "output_type": "stream",
     "text": [
      "C:\\Users\\pablo\\Anaconda3\\lib\\site-packages\\ipykernel_launcher.py:4: SettingWithCopyWarning: \n",
      "A value is trying to be set on a copy of a slice from a DataFrame\n",
      "\n",
      "See the caveats in the documentation: http://pandas.pydata.org/pandas-docs/stable/user_guide/indexing.html#returning-a-view-versus-a-copy\n",
      "  after removing the cwd from sys.path.\n",
      "C:\\Users\\pablo\\Anaconda3\\lib\\site-packages\\pandas\\core\\indexing.py:205: SettingWithCopyWarning: \n",
      "A value is trying to be set on a copy of a slice from a DataFrame\n",
      "\n",
      "See the caveats in the documentation: http://pandas.pydata.org/pandas-docs/stable/user_guide/indexing.html#returning-a-view-versus-a-copy\n",
      "  self._setitem_with_indexer(indexer, value)\n",
      "C:\\Users\\pablo\\Anaconda3\\lib\\site-packages\\ipykernel_launcher.py:6: SettingWithCopyWarning: \n",
      "A value is trying to be set on a copy of a slice from a DataFrame\n",
      "\n",
      "See the caveats in the documentation: http://pandas.pydata.org/pandas-docs/stable/user_guide/indexing.html#returning-a-view-versus-a-copy\n",
      "  \n"
     ]
    }
   ],
   "source": [
    "#Dropping missing values for 'famhx_c' and 'biophx_c'. First setting all 9 values to NAN\n",
    "for i in range(len(train_df_UID['famhx_c'])):\n",
    "    if train_df_UID['famhx_c'][i] == 9: #Getting rid of missing values for empty 'famhx_c'\n",
    "        train_df_UID['famhx_c'][i] = math.nan\n",
    "    if train_df_UID['biophx_c'][i] == 9: #Getting rid of missing values for empty 'biophx_c'\n",
    "        train_df_UID['biophx_c'][i] = math.nan\n",
    "train_df_MV = train_df_UID.dropna(axis='index').reset_index(drop=True)"
   ]
  },
  {
   "cell_type": "markdown",
   "metadata": {},
   "source": [
    " With respect to `bmi_c` feature, as we can see on 1.1.3 Data Insights, there are 23209 missing values, which represent more than half of the data set...\n",
    " \n",
    " This is a great number just for simply dropping the rows with missing BMI values. Therefore it is decided to perform a [Mean Imputation](https://en.wikipedia.org/wiki/Imputation_%28statistics%29) technique for filling the values labels as missing (-99). This clinical and demographic consideration assumes that if a patient BMI's is not registered, it will be considered as be an standard BMI. An in this way have a lower impact on individual predictions for each patient."
   ]
  },
  {
   "cell_type": "code",
   "execution_count": 19,
   "metadata": {},
   "outputs": [
    {
     "name": "stderr",
     "output_type": "stream",
     "text": [
      "C:\\Users\\pablo\\Anaconda3\\lib\\site-packages\\ipykernel_launcher.py:6: SettingWithCopyWarning: \n",
      "A value is trying to be set on a copy of a slice from a DataFrame\n",
      "\n",
      "See the caveats in the documentation: http://pandas.pydata.org/pandas-docs/stable/user_guide/indexing.html#returning-a-view-versus-a-copy\n",
      "  \n"
     ]
    }
   ],
   "source": [
    "mean = []\n",
    "mean.append([i for i in train_df_MV.bmi_c if i != -99])\n",
    "mean_bmi_val = np.mean(mean)\n",
    "for i in range(len(train_df_MV['bmi_c'])):\n",
    "    if train_df_MV['bmi_c'][i] == -99: #Mean imputation for 'bmi_c'\n",
    "        train_df_MV['bmi_c'][i] = mean_bmi_val"
   ]
  },
  {
   "cell_type": "markdown",
   "metadata": {},
   "source": [
    "For sanity check we will confirm that our data is ready for model implementation"
   ]
  },
  {
   "cell_type": "code",
   "execution_count": 20,
   "metadata": {},
   "outputs": [
    {
     "name": "stdout",
     "output_type": "stream",
     "text": [
      "Sanity Check\n",
      "############\n",
      "Are there any missing values in the data set?  False\n",
      "Are there any missing values (9) in 'famhx_c'?  False\n",
      "Are there any missing values (9) in 'biophx_c'?  False\n",
      "Are there any missing values (-99) in 'bmi_c'?  False\n",
      "Just for double check, Are all patient ID'?  True\n"
     ]
    }
   ],
   "source": [
    "#Are there any missing values in the data set\n",
    "print(\"Sanity Check\")\n",
    "print(\"############\")\n",
    "print(\"Are there any missing values in the data set? \",train_df_MV.isnull().values.any())\n",
    "print(\"Are there any missing values (9) in 'famhx_c'? \",(9 in train_df_MV.famhx_c.values))\n",
    "print(\"Are there any missing values (9) in 'biophx_c'? \",(9 in train_df_MV.biophx_c.values))\n",
    "print(\"Are there any missing values (-99) in 'bmi_c'? \",(-99 in train_df_MV.bmi_c.values))\n",
    "print(\"Just for double check, Are all patient ID'? \",train_df_MV[\"ptid\"].is_unique)"
   ]
  },
  {
   "cell_type": "markdown",
   "metadata": {},
   "source": [
    "Now, we will check how our data was changed by these previous modifications, we will see our class balance"
   ]
  },
  {
   "cell_type": "code",
   "execution_count": 21,
   "metadata": {},
   "outputs": [
    {
     "name": "stdout",
     "output_type": "stream",
     "text": [
      "Total Patients Classified\n",
      "#########################\n",
      "cancer_c\n",
      "0    36468\n",
      "1      246\n",
      "dtype: int64\n",
      "\n",
      "Patients Classified When Dropping Repeated ID's\n",
      "###############################################\n",
      "cancer_c\n",
      "0    35494\n",
      "1      236\n",
      "dtype: int64\n"
     ]
    }
   ],
   "source": [
    "print(\"Total Patients Classified\")\n",
    "print(\"#########################\")\n",
    "print(train_df_UID.groupby(['cancer_c']).size())\n",
    "print(\"\")\n",
    "print(\"Patients Classified When Dropping Repeated ID's\")\n",
    "print(\"###############################################\")\n",
    "print(train_df_MV.groupby(['cancer_c']).size())"
   ]
  },
  {
   "cell_type": "markdown",
   "metadata": {},
   "source": [
    "As we can see the dropouts in Class 0 are almost 1,020 patients (<5%) and the dropouts  in Class 1 are 10 (<5%). \n",
    "\n",
    "**The net effect on dropping patients with no Cancer Family Records or Biopsy Examination and mean imputation for patient's BMI is estimated to be less than considering them into the model or making false assumptions on clinical data that could lower down realistic interpretation of the model (or increase the risk for False Positives/Negatives)**"
   ]
  },
  {
   "cell_type": "markdown",
   "metadata": {},
   "source": [
    "## <font color='darkblue'>1.3 Feature Engineering</font>\n",
    "\n",
    "For this project, one extra feature will be created based on minor research made. According to the [paper](https://www.ncbi.nlm.nih.gov/pmc/articles/PMC3873844/) published in the [Oxford Journal](https://academic.oup.com/journals/) named \"*Body Mass Index and Breast Cancer Risk According to Postmenopausal Estrogen-Progestin Use and Hormone Receptor Status*\", it is estimated a 0.78 (CI 0.62-0.92) summary risk ratio for hormone receptor–positive premenopausal breast cancer associated with obesity. \n",
    "\n",
    "If we consider that obesity can be revealed when BMI>= 30, then we can estimated a risk factor by the following model:\n",
    "\n",
    "$$ rbmi_c = \\frac{bmi_c}{30}(0.78)$$\n",
    "\n",
    "It is also computed a risk factor based on density of the breast detected and the family cancer record in the patient. Both variables are know to highly contribute in increasing the chances for a patient to be detected with cancer. So, it has been decided to perform a risk index which computation consisted on:\n",
    "\n",
    "$$ rdenfam_c = \\frac{density_c}{4} + 0.8*famhx_c $$\n",
    "\n",
    "Where density of the breast is normalized to the scale of the family record weight (considering a density scale from 1 to 4), to be on the same range.\n",
    "\n",
    "Unifying the above computations in a single feature gave us the headline for the feature to be added in the model:\n",
    "\n",
    "$$ rbmidf_c = 0.78*\\frac{bmi_c}{30}+\\frac{density_c}{5} + 0.8*famhx_c $$"
   ]
  },
  {
   "cell_type": "code",
   "execution_count": 53,
   "metadata": {},
   "outputs": [],
   "source": [
    "#Adding the new feature to the data frame\n",
    "train_df_MV['rbmidf_c'] = (0.78/30)*train_df_MV['bmi_c']+train_df_MV['density_c']/5+0.8*train_df_MV['famhx_c']"
   ]
  },
  {
   "cell_type": "markdown",
   "metadata": {},
   "source": [
    "Finally, we will drop the features that will not be included in the model for the reasons explained inthe first part of  1.2.3.1 Feature Engineering"
   ]
  },
  {
   "cell_type": "code",
   "execution_count": 54,
   "metadata": {},
   "outputs": [],
   "source": [
    "train_df_MV['label'] = train_df_MV['cancer_c']"
   ]
  },
  {
   "cell_type": "code",
   "execution_count": 55,
   "metadata": {},
   "outputs": [],
   "source": [
    "train_df = train_df_MV.drop(['cancer_c','compfilm_c','hrt_c','prvmam_c','mammtype','CaTypeO','ptid'],axis=1)\n",
    "labels_df = train_df_MV['cancer_c'] #Labels extraction"
   ]
  },
  {
   "cell_type": "markdown",
   "metadata": {},
   "source": [
    "In this step, a quick covariance and correlation analysis will be done on our cleansed data:"
   ]
  },
  {
   "cell_type": "code",
   "execution_count": 56,
   "metadata": {},
   "outputs": [
    {
     "data": {
      "text/html": [
       "<div>\n",
       "<style scoped>\n",
       "    .dataframe tbody tr th:only-of-type {\n",
       "        vertical-align: middle;\n",
       "    }\n",
       "\n",
       "    .dataframe tbody tr th {\n",
       "        vertical-align: top;\n",
       "    }\n",
       "\n",
       "    .dataframe thead th {\n",
       "        text-align: right;\n",
       "    }\n",
       "</style>\n",
       "<table border=\"1\" class=\"dataframe\">\n",
       "  <thead>\n",
       "    <tr style=\"text-align: right;\">\n",
       "      <th></th>\n",
       "      <th>age_c</th>\n",
       "      <th>assess_c</th>\n",
       "      <th>density_c</th>\n",
       "      <th>famhx_c</th>\n",
       "      <th>biophx_c</th>\n",
       "      <th>bmi_c</th>\n",
       "      <th>rbmidf_c</th>\n",
       "      <th>label</th>\n",
       "    </tr>\n",
       "  </thead>\n",
       "  <tbody>\n",
       "    <tr>\n",
       "      <td>age_c</td>\n",
       "      <td>52.179416</td>\n",
       "      <td>0.154614</td>\n",
       "      <td>-0.275284</td>\n",
       "      <td>0.109784</td>\n",
       "      <td>-0.002459</td>\n",
       "      <td>-1.621219</td>\n",
       "      <td>-0.183728</td>\n",
       "      <td>0.006250</td>\n",
       "    </tr>\n",
       "    <tr>\n",
       "      <td>assess_c</td>\n",
       "      <td>0.154614</td>\n",
       "      <td>0.333650</td>\n",
       "      <td>0.029242</td>\n",
       "      <td>0.001443</td>\n",
       "      <td>0.020142</td>\n",
       "      <td>0.007234</td>\n",
       "      <td>0.025711</td>\n",
       "      <td>-0.003642</td>\n",
       "    </tr>\n",
       "    <tr>\n",
       "      <td>density_c</td>\n",
       "      <td>-0.275284</td>\n",
       "      <td>0.029242</td>\n",
       "      <td>0.518840</td>\n",
       "      <td>-0.000956</td>\n",
       "      <td>0.032586</td>\n",
       "      <td>-0.575264</td>\n",
       "      <td>0.416645</td>\n",
       "      <td>0.000798</td>\n",
       "    </tr>\n",
       "    <tr>\n",
       "      <td>famhx_c</td>\n",
       "      <td>0.109784</td>\n",
       "      <td>0.001443</td>\n",
       "      <td>-0.000956</td>\n",
       "      <td>0.139135</td>\n",
       "      <td>0.007824</td>\n",
       "      <td>0.013984</td>\n",
       "      <td>0.110875</td>\n",
       "      <td>0.000156</td>\n",
       "    </tr>\n",
       "    <tr>\n",
       "      <td>biophx_c</td>\n",
       "      <td>-0.002459</td>\n",
       "      <td>0.020142</td>\n",
       "      <td>0.032586</td>\n",
       "      <td>0.007824</td>\n",
       "      <td>0.195247</td>\n",
       "      <td>-0.017810</td>\n",
       "      <td>0.032951</td>\n",
       "      <td>0.000734</td>\n",
       "    </tr>\n",
       "    <tr>\n",
       "      <td>bmi_c</td>\n",
       "      <td>-1.621219</td>\n",
       "      <td>0.007234</td>\n",
       "      <td>-0.575264</td>\n",
       "      <td>0.013984</td>\n",
       "      <td>-0.017810</td>\n",
       "      <td>13.638478</td>\n",
       "      <td>-0.113599</td>\n",
       "      <td>0.002661</td>\n",
       "    </tr>\n",
       "    <tr>\n",
       "      <td>rbmidf_c</td>\n",
       "      <td>-0.183728</td>\n",
       "      <td>0.025711</td>\n",
       "      <td>0.416645</td>\n",
       "      <td>0.110875</td>\n",
       "      <td>0.032951</td>\n",
       "      <td>-0.113599</td>\n",
       "      <td>0.432950</td>\n",
       "      <td>0.000859</td>\n",
       "    </tr>\n",
       "    <tr>\n",
       "      <td>label</td>\n",
       "      <td>0.006250</td>\n",
       "      <td>-0.003642</td>\n",
       "      <td>0.000798</td>\n",
       "      <td>0.000156</td>\n",
       "      <td>0.000734</td>\n",
       "      <td>0.002661</td>\n",
       "      <td>0.000859</td>\n",
       "      <td>0.006562</td>\n",
       "    </tr>\n",
       "  </tbody>\n",
       "</table>\n",
       "</div>"
      ],
      "text/plain": [
       "               age_c  assess_c  density_c   famhx_c  biophx_c      bmi_c  \\\n",
       "age_c      52.179416  0.154614  -0.275284  0.109784 -0.002459  -1.621219   \n",
       "assess_c    0.154614  0.333650   0.029242  0.001443  0.020142   0.007234   \n",
       "density_c  -0.275284  0.029242   0.518840 -0.000956  0.032586  -0.575264   \n",
       "famhx_c     0.109784  0.001443  -0.000956  0.139135  0.007824   0.013984   \n",
       "biophx_c   -0.002459  0.020142   0.032586  0.007824  0.195247  -0.017810   \n",
       "bmi_c      -1.621219  0.007234  -0.575264  0.013984 -0.017810  13.638478   \n",
       "rbmidf_c   -0.183728  0.025711   0.416645  0.110875  0.032951  -0.113599   \n",
       "label       0.006250 -0.003642   0.000798  0.000156  0.000734   0.002661   \n",
       "\n",
       "           rbmidf_c     label  \n",
       "age_c     -0.183728  0.006250  \n",
       "assess_c   0.025711 -0.003642  \n",
       "density_c  0.416645  0.000798  \n",
       "famhx_c    0.110875  0.000156  \n",
       "biophx_c   0.032951  0.000734  \n",
       "bmi_c     -0.113599  0.002661  \n",
       "rbmidf_c   0.432950  0.000859  \n",
       "label      0.000859  0.006562  "
      ]
     },
     "execution_count": 56,
     "metadata": {},
     "output_type": "execute_result"
    }
   ],
   "source": [
    "train_df.cov()"
   ]
  },
  {
   "cell_type": "code",
   "execution_count": 57,
   "metadata": {},
   "outputs": [
    {
     "data": {
      "text/html": [
       "<div>\n",
       "<style scoped>\n",
       "    .dataframe tbody tr th:only-of-type {\n",
       "        vertical-align: middle;\n",
       "    }\n",
       "\n",
       "    .dataframe tbody tr th {\n",
       "        vertical-align: top;\n",
       "    }\n",
       "\n",
       "    .dataframe thead th {\n",
       "        text-align: right;\n",
       "    }\n",
       "</style>\n",
       "<table border=\"1\" class=\"dataframe\">\n",
       "  <thead>\n",
       "    <tr style=\"text-align: right;\">\n",
       "      <th></th>\n",
       "      <th>age_c</th>\n",
       "      <th>assess_c</th>\n",
       "      <th>density_c</th>\n",
       "      <th>famhx_c</th>\n",
       "      <th>biophx_c</th>\n",
       "      <th>bmi_c</th>\n",
       "      <th>rbmidf_c</th>\n",
       "      <th>label</th>\n",
       "    </tr>\n",
       "  </thead>\n",
       "  <tbody>\n",
       "    <tr>\n",
       "      <td>age_c</td>\n",
       "      <td>1.000000</td>\n",
       "      <td>0.037056</td>\n",
       "      <td>-0.052907</td>\n",
       "      <td>0.040745</td>\n",
       "      <td>-0.000771</td>\n",
       "      <td>-0.060773</td>\n",
       "      <td>-0.038655</td>\n",
       "      <td>0.010682</td>\n",
       "    </tr>\n",
       "    <tr>\n",
       "      <td>assess_c</td>\n",
       "      <td>0.037056</td>\n",
       "      <td>1.000000</td>\n",
       "      <td>0.070283</td>\n",
       "      <td>0.006699</td>\n",
       "      <td>0.078916</td>\n",
       "      <td>0.003391</td>\n",
       "      <td>0.067649</td>\n",
       "      <td>-0.077831</td>\n",
       "    </tr>\n",
       "    <tr>\n",
       "      <td>density_c</td>\n",
       "      <td>-0.052907</td>\n",
       "      <td>0.070283</td>\n",
       "      <td>1.000000</td>\n",
       "      <td>-0.003559</td>\n",
       "      <td>0.102383</td>\n",
       "      <td>-0.216256</td>\n",
       "      <td>0.879084</td>\n",
       "      <td>0.013672</td>\n",
       "    </tr>\n",
       "    <tr>\n",
       "      <td>famhx_c</td>\n",
       "      <td>0.040745</td>\n",
       "      <td>0.006699</td>\n",
       "      <td>-0.003559</td>\n",
       "      <td>1.000000</td>\n",
       "      <td>0.047470</td>\n",
       "      <td>0.010151</td>\n",
       "      <td>0.451747</td>\n",
       "      <td>0.005170</td>\n",
       "    </tr>\n",
       "    <tr>\n",
       "      <td>biophx_c</td>\n",
       "      <td>-0.000771</td>\n",
       "      <td>0.078916</td>\n",
       "      <td>0.102383</td>\n",
       "      <td>0.047470</td>\n",
       "      <td>1.000000</td>\n",
       "      <td>-0.010914</td>\n",
       "      <td>0.113334</td>\n",
       "      <td>0.020507</td>\n",
       "    </tr>\n",
       "    <tr>\n",
       "      <td>bmi_c</td>\n",
       "      <td>-0.060773</td>\n",
       "      <td>0.003391</td>\n",
       "      <td>-0.216256</td>\n",
       "      <td>0.010151</td>\n",
       "      <td>-0.010914</td>\n",
       "      <td>1.000000</td>\n",
       "      <td>-0.046749</td>\n",
       "      <td>0.008896</td>\n",
       "    </tr>\n",
       "    <tr>\n",
       "      <td>rbmidf_c</td>\n",
       "      <td>-0.038655</td>\n",
       "      <td>0.067649</td>\n",
       "      <td>0.879084</td>\n",
       "      <td>0.451747</td>\n",
       "      <td>0.113334</td>\n",
       "      <td>-0.046749</td>\n",
       "      <td>1.000000</td>\n",
       "      <td>0.016115</td>\n",
       "    </tr>\n",
       "    <tr>\n",
       "      <td>label</td>\n",
       "      <td>0.010682</td>\n",
       "      <td>-0.077831</td>\n",
       "      <td>0.013672</td>\n",
       "      <td>0.005170</td>\n",
       "      <td>0.020507</td>\n",
       "      <td>0.008896</td>\n",
       "      <td>0.016115</td>\n",
       "      <td>1.000000</td>\n",
       "    </tr>\n",
       "  </tbody>\n",
       "</table>\n",
       "</div>"
      ],
      "text/plain": [
       "              age_c  assess_c  density_c   famhx_c  biophx_c     bmi_c  \\\n",
       "age_c      1.000000  0.037056  -0.052907  0.040745 -0.000771 -0.060773   \n",
       "assess_c   0.037056  1.000000   0.070283  0.006699  0.078916  0.003391   \n",
       "density_c -0.052907  0.070283   1.000000 -0.003559  0.102383 -0.216256   \n",
       "famhx_c    0.040745  0.006699  -0.003559  1.000000  0.047470  0.010151   \n",
       "biophx_c  -0.000771  0.078916   0.102383  0.047470  1.000000 -0.010914   \n",
       "bmi_c     -0.060773  0.003391  -0.216256  0.010151 -0.010914  1.000000   \n",
       "rbmidf_c  -0.038655  0.067649   0.879084  0.451747  0.113334 -0.046749   \n",
       "label      0.010682 -0.077831   0.013672  0.005170  0.020507  0.008896   \n",
       "\n",
       "           rbmidf_c     label  \n",
       "age_c     -0.038655  0.010682  \n",
       "assess_c   0.067649 -0.077831  \n",
       "density_c  0.879084  0.013672  \n",
       "famhx_c    0.451747  0.005170  \n",
       "biophx_c   0.113334  0.020507  \n",
       "bmi_c     -0.046749  0.008896  \n",
       "rbmidf_c   1.000000  0.016115  \n",
       "label      0.016115  1.000000  "
      ]
     },
     "execution_count": 57,
     "metadata": {},
     "output_type": "execute_result"
    }
   ],
   "source": [
    "train_df.corr()"
   ]
  },
  {
   "cell_type": "markdown",
   "metadata": {},
   "source": [
    "Great! Now let's take a look on our final data set for using it in the model"
   ]
  },
  {
   "cell_type": "code",
   "execution_count": 58,
   "metadata": {},
   "outputs": [],
   "source": [
    "#Creating RDD for training data\n",
    "train_RDD = spark.createDataFrame(train_df)\n",
    "labels_RDD = spark.createDataFrame(pd.DataFrame(labels_df))"
   ]
  },
  {
   "cell_type": "markdown",
   "metadata": {},
   "source": [
    "Visualizing Training RDD (features)"
   ]
  },
  {
   "cell_type": "code",
   "execution_count": 59,
   "metadata": {},
   "outputs": [
    {
     "name": "stdout",
     "output_type": "stream",
     "text": [
      "+-----+--------+---------+-------+--------+------------------+-----------------+-----+\n",
      "|age_c|assess_c|density_c|famhx_c|biophx_c|             bmi_c|         rbmidf_c|label|\n",
      "+-----+--------+---------+-------+--------+------------------+-----------------+-----+\n",
      "|   62|       1|        2|    0.0|     0.0|        24.0235443|2.291278818466667|    0|\n",
      "|   65|       1|        4|    0.0|     0.0|26.895982634711235|4.032628881835826|    0|\n",
      "|   69|       0|        2|    0.0|     0.0|29.052429200000002|2.422029825866667|    0|\n",
      "|   64|       2|        2|    0.0|     0.0|26.895982634711235|2.365962215169159|    0|\n",
      "|   63|       3|        2|    0.0|     1.0|33.729522700000004|2.543634256866667|    0|\n",
      "+-----+--------+---------+-------+--------+------------------+-----------------+-----+\n",
      "only showing top 5 rows\n",
      "\n"
     ]
    }
   ],
   "source": [
    "train_RDD.show(5)"
   ]
  },
  {
   "cell_type": "markdown",
   "metadata": {},
   "source": [
    "## <font color='darkblue'>1.4 Model Definition (Random Forest)</font>\n",
    "\n",
    "For this project, **Random Forest** will be one of the models to try since: the values of the labels are in different ranges (as we know, Random Forest is a less sensitive algorithm to normalization); Random forest is a good option for binary classification and lastly, due to the distribution of the variables and data visualization, this could be a good option. \n",
    "\n",
    "Also, for comparison, we will be implementing a simple neural network for comparing the accuracy between one and the other.\n",
    "\n",
    "It will be used the Spark ML for this purpose:"
   ]
  },
  {
   "cell_type": "code",
   "execution_count": 60,
   "metadata": {},
   "outputs": [],
   "source": [
    "#Mcahine Learning from pyspark imports\n",
    "from pyspark.ml.feature import VectorAssembler\n",
    "from pyspark.ml.regression import RandomForestRegressor\n",
    "from pyspark.ml import Pipeline\n",
    "from pyspark.ml.tuning import ParamGridBuilder\n",
    "from pyspark.ml.tuning import CrossValidator\n",
    "from pyspark.ml.evaluation import RegressionEvaluator"
   ]
  },
  {
   "cell_type": "code",
   "execution_count": 61,
   "metadata": {},
   "outputs": [],
   "source": [
    "#Creation of formatted features as a single vector\n",
    "features = []\n",
    "for col in train_RDD.columns:\n",
    "    if col == 'label':\n",
    "        continue\n",
    "    else:\n",
    "        features.append(col)\n",
    "    \n",
    "assembler = VectorAssembler(inputCols=features, outputCol=\"features\")"
   ]
  },
  {
   "cell_type": "markdown",
   "metadata": {},
   "source": [
    "Now, we configure our regressor"
   ]
  },
  {
   "cell_type": "code",
   "execution_count": 62,
   "metadata": {},
   "outputs": [],
   "source": [
    "rf = RandomForestRegressor(labelCol=\"label\", featuresCol=\"features\")"
   ]
  },
  {
   "cell_type": "markdown",
   "metadata": {},
   "source": [
    "Now, we configure our pipeline"
   ]
  },
  {
   "cell_type": "code",
   "execution_count": 63,
   "metadata": {},
   "outputs": [],
   "source": [
    "pipeline = Pipeline(stages=[assembler, rf])"
   ]
  },
  {
   "cell_type": "markdown",
   "metadata": {},
   "source": [
    "Now, we are going to configure our hyperparameter settings for choosing which parameters would be the best ones to use when training the models. The model is iteratively reevaluated using cross-validation for each combination of parameter values."
   ]
  },
  {
   "cell_type": "code",
   "execution_count": 64,
   "metadata": {},
   "outputs": [],
   "source": [
    "paramGrid = ParamGridBuilder()\\\n",
    "    .addGrid(rf.numTrees, [int(x) for x in np.linspace(start=10, stop=50,num=3)]) \\\n",
    "    .addGrid(rf.maxDepth, [int(x) for x in np.linspace(start=5, stop=25,num=3)]) \\\n",
    "    .build()"
   ]
  },
  {
   "cell_type": "markdown",
   "metadata": {},
   "source": [
    "Now, we configure our cross-validator for checking model's performance"
   ]
  },
  {
   "cell_type": "code",
   "execution_count": 65,
   "metadata": {},
   "outputs": [],
   "source": [
    "crossval = CrossValidator(estimator=pipeline,\n",
    "                          estimatorParamMaps=paramGrid,\n",
    "                          evaluator=RegressionEvaluator(),\n",
    "                          numFolds=3)"
   ]
  },
  {
   "cell_type": "markdown",
   "metadata": {},
   "source": [
    "Split the training and testing data in 80% trainig and 20% testing since this is not a huge data set."
   ]
  },
  {
   "cell_type": "code",
   "execution_count": 66,
   "metadata": {},
   "outputs": [],
   "source": [
    "(trainData, testData) = train_RDD.randomSplit([0.8, 0.2])"
   ]
  },
  {
   "cell_type": "markdown",
   "metadata": {},
   "source": [
    "## <font color='darkblue'>1.5 Model Training (Random Forest)</font>\n",
    "\n",
    "Now it is time to train the model.\n",
    "\n",
    "The first step to take here is to fit the Cross Validation Model to check the RMSE, feature importance and hyperparameter selection. After that the optimal hyperparameters will be used for training the real model. "
   ]
  },
  {
   "cell_type": "code",
   "execution_count": 67,
   "metadata": {},
   "outputs": [],
   "source": [
    "#Fitting the corss validation model\n",
    "cvModel = crossval.fit(trainData)"
   ]
  },
  {
   "cell_type": "code",
   "execution_count": 68,
   "metadata": {},
   "outputs": [],
   "source": [
    "predictions = cvModel.transform(testData)"
   ]
  },
  {
   "cell_type": "markdown",
   "metadata": {},
   "source": [
    "Computing and plotting the RMSE"
   ]
  },
  {
   "cell_type": "code",
   "execution_count": 69,
   "metadata": {},
   "outputs": [
    {
     "data": {
      "image/png": "[encoded data removed]",
      "text/plain": [
       "<Figure size 432x288 with 1 Axes>"
      ]
     },
     "metadata": {
      "needs_background": "light"
     },
     "output_type": "display_data"
    }
   ],
   "source": [
    "#Evaluating the model results\n",
    "evaluator = RegressionEvaluator(labelCol=\"label\", predictionCol=\"prediction\", metricName=\"rmse\")\n",
    "rmse = evaluator.evaluate(predictions)\n",
    "rfPred = cvModel.transform(train_RDD)\n",
    "rfResult = rfPred.toPandas()\n",
    "#plotting the RMSE Value and classes\n",
    "plt.plot(rfResult.label, rfResult.prediction, 'bo')\n",
    "plt.xlabel('Cancer')\n",
    "plt.ylabel('Prediction')\n",
    "plt.suptitle(\"Model Performance RMSE: %f\" % rmse)\n",
    "plt.show()"
   ]
  },
  {
   "cell_type": "markdown",
   "metadata": {},
   "source": [
    "As we can see, our RMSE value is very low, which indicates a high accuracy in our model's predictions. This step is also part of the 1.6 Model Evaluation section."
   ]
  },
  {
   "cell_type": "code",
   "execution_count": 70,
   "metadata": {},
   "outputs": [
    {
     "data": {
      "text/plain": [
       "Text(0.5, 1.0, 'Feature Importances')"
      ]
     },
     "execution_count": 70,
     "metadata": {},
     "output_type": "execute_result"
    },
    {
     "data": {
      "image/png": "[encoded data removed]",
      "text/plain": [
       "<Figure size 432x288 with 1 Axes>"
      ]
     },
     "metadata": {
      "needs_background": "light"
     },
     "output_type": "display_data"
    }
   ],
   "source": [
    "#Best Pipeline for getting the importances\n",
    "bestPipeline = cvModel.bestModel\n",
    "bestModel = bestPipeline.stages[1]\n",
    "\n",
    "importances = bestModel.featureImportances\n",
    "\n",
    "x_values = list(range(len(importances)))\n",
    "\n",
    "plt.bar(x_values, importances, orientation = 'vertical')\n",
    "plt.xticks(x_values, features, rotation=40)\n",
    "plt.ylabel('Importance')\n",
    "plt.xlabel('Feature')\n",
    "plt.title('Feature Importances')"
   ]
  },
  {
   "cell_type": "markdown",
   "metadata": {},
   "source": [
    "As we can see here, the predictions are based mostly on BI-RADS assesment, Age and BMI. Which is consisten with clinical data."
   ]
  },
  {
   "cell_type": "code",
   "execution_count": 71,
   "metadata": {},
   "outputs": [
    {
     "name": "stdout",
     "output_type": "stream",
     "text": [
      "numTrees -  50\n",
      "maxDepth -  5\n"
     ]
    }
   ],
   "source": [
    "#Finding the optimal values for the hyperparameters\n",
    "print('numTrees - ', bestModel.getNumTrees)\n",
    "print('maxDepth - ', bestModel.getOrDefault('maxDepth'))"
   ]
  },
  {
   "cell_type": "markdown",
   "metadata": {},
   "source": [
    "With these data obtained we will train the model and place the optimal values (hyperparameters) computed in one cell bellow."
   ]
  },
  {
   "cell_type": "code",
   "execution_count": 72,
   "metadata": {},
   "outputs": [
    {
     "name": "stdout",
     "output_type": "stream",
     "text": [
      "Number of training set rows: 24978\n",
      "Number of test set rows: 10752\n"
     ]
    }
   ],
   "source": [
    "from pyspark.mllib.linalg import Vectors\n",
    "from pyspark.mllib.regression import LabeledPoint\n",
    "#Splitting the data for model training\n",
    "trans_RDD = train_RDD.rdd.map(lambda row: LabeledPoint(row[-1], Vectors.dense(row[0:-1])))\n",
    "splits = [0.7, 0.3]\n",
    "train_data, test_data = trans_RDD.randomSplit(splits, 13579)\n",
    "print(\"Number of training set rows: %d\" % train_data.count())\n",
    "print(\"Number of test set rows: %d\" % test_data.count())"
   ]
  },
  {
   "cell_type": "markdown",
   "metadata": {},
   "source": [
    "Training the model..."
   ]
  },
  {
   "cell_type": "code",
   "execution_count": 73,
   "metadata": {},
   "outputs": [
    {
     "name": "stdout",
     "output_type": "stream",
     "text": [
      "Time to train model: 4.517 seconds\n"
     ]
    }
   ],
   "source": [
    "from pyspark.mllib.tree import RandomForest\n",
    "from time import *\n",
    "\n",
    "start_time = time()\n",
    "\n",
    "model = RandomForest.trainClassifier(train_data, numClasses=2, categoricalFeaturesInfo={}, \\\n",
    "    numTrees=50, featureSubsetStrategy=\"auto\", impurity=\"gini\", \\\n",
    "    maxDepth=5, maxBins=32, seed=13579)\n",
    "\n",
    "end_time = time()\n",
    "elapsed_time = end_time - start_time\n",
    "print(\"Time to train model: %.3f seconds\" % elapsed_time)"
   ]
  },
  {
   "cell_type": "markdown",
   "metadata": {},
   "source": [
    "## <font color='darkblue'>1.6 Model Evaluation (Random Forest)</font>\n",
    "\n",
    "Now it is time to evaluate the model."
   ]
  },
  {
   "cell_type": "code",
   "execution_count": 74,
   "metadata": {},
   "outputs": [
    {
     "name": "stdout",
     "output_type": "stream",
     "text": [
      "Random Forest Model Evaluation\n",
      "##############################\n",
      "Model RMSE:  0.07628991498571912\n",
      "Model accuracy: 99.312%\n"
     ]
    }
   ],
   "source": [
    "#Functions for getting model predictions and label predictions\n",
    "predictions = model.predict(test_data.map(lambda x: x.features))\n",
    "labels_and_predictions = test_data.map(lambda x: x.label).zip(predictions)\n",
    "acc = labels_and_predictions.filter(lambda x: x[0] == x[1]).count() / float(test_data.count())\n",
    "print(\"Random Forest Model Evaluation\")\n",
    "print(\"##############################\")\n",
    "print(\"Model RMSE: \",rmse)\n",
    "print(\"Model accuracy: %.3f%%\" % (acc * 100))"
   ]
  },
  {
   "cell_type": "markdown",
   "metadata": {},
   "source": [
    "## <font color='darkblue'>1.4 Model Definition (Neural Network)</font>\n",
    "\n",
    "It will also be implemented a basic Neural Network for comparing the accuracy level between a deep-learning and a not deep-learning algorithm. For this tasks Keras will be used as the library for computing the Neural Network."
   ]
  },
  {
   "cell_type": "code",
   "execution_count": 75,
   "metadata": {},
   "outputs": [],
   "source": [
    "#Imports for model selection and data splitting\n",
    "from sklearn.model_selection import train_test_split\n",
    "import sklearn"
   ]
  },
  {
   "cell_type": "markdown",
   "metadata": {},
   "source": [
    "Processing the data for splitting the dataset for the inputs of the model. Which will be features for the training, labels for the training, features for the test set and labels for the test set."
   ]
  },
  {
   "cell_type": "code",
   "execution_count": 76,
   "metadata": {},
   "outputs": [],
   "source": [
    "#Data preprocessing: cpnverting to arrays for data split\n",
    "data = np.array(train_df)\n",
    "X_data = data[:,0:7]\n",
    "Y_data = data[:,7]\n",
    "X_train, X_test, y_train, y_test = train_test_split(X_data, Y_data, test_size=0.25, random_state=0)"
   ]
  },
  {
   "cell_type": "code",
   "execution_count": 77,
   "metadata": {},
   "outputs": [
    {
     "name": "stdout",
     "output_type": "stream",
     "text": [
      "X_train: (26797, 7)\n",
      "y_train: (26797,)\n",
      "X_test: (8933, 7)\n",
      "y_test: (8933,)\n"
     ]
    }
   ],
   "source": [
    "#Chacking the shape of the train and test sets\n",
    "print('X_train:',np.shape(X_train))\n",
    "print('y_train:',np.shape(y_train))\n",
    "print('X_test:',np.shape(X_test))\n",
    "print('y_test:',np.shape(y_test))"
   ]
  },
  {
   "cell_type": "markdown",
   "metadata": {},
   "source": [
    "Now, it is time to import the Keras library"
   ]
  },
  {
   "cell_type": "code",
   "execution_count": 78,
   "metadata": {},
   "outputs": [],
   "source": [
    "import keras\n",
    "from keras.models import Sequential   # importing Sequential model\n",
    "from keras.layers import Dense        # importing Dense layers"
   ]
  },
  {
   "cell_type": "code",
   "execution_count": 79,
   "metadata": {},
   "outputs": [],
   "source": [
    "# Declaring the model to be used\n",
    "basic_model = Sequential()"
   ]
  },
  {
   "cell_type": "markdown",
   "metadata": {},
   "source": [
    "Now, it is time to add some layers on the model:"
   ]
  },
  {
   "cell_type": "code",
   "execution_count": 80,
   "metadata": {},
   "outputs": [],
   "source": [
    "# First layer: 16 neurons that uses 'sigmoid' activation function.\n",
    "basic_model.add(Dense(units = 16 , activation = 'sigmoid', input_shape = (7,))) \n",
    "# Second layer: 1 neuron and outputs 0 or 1 using 'Hard Sigmoid' activation function.\n",
    "basic_model.add(Dense(1, activation = 'hard_sigmoid'))"
   ]
  },
  {
   "cell_type": "markdown",
   "metadata": {},
   "source": [
    "Since we are using the neural network for binary classification, 'binary cross_entropy' and SGD ptimizer for the model."
   ]
  },
  {
   "cell_type": "code",
   "execution_count": 81,
   "metadata": {},
   "outputs": [],
   "source": [
    "sgd = keras.optimizers.SGD(lr=0.5, momentum=0.9, nesterov=True)\n",
    "basic_model.compile(loss = 'binary_crossentropy', optimizer = 'sgd', metrics = ['accuracy'])"
   ]
  },
  {
   "cell_type": "markdown",
   "metadata": {},
   "source": [
    "## <font color='darkblue'>1.5 Model Training (Neural Network)</font>\n",
    "\n",
    "Now it is time to train the model."
   ]
  },
  {
   "cell_type": "code",
   "execution_count": 82,
   "metadata": {},
   "outputs": [
    {
     "name": "stdout",
     "output_type": "stream",
     "text": [
      "Epoch 1/50\n",
      "838/838 [==============================] - 1s 814us/step - loss: 0.1058 - accuracy: 0.9935\n",
      "Epoch 2/50\n",
      "838/838 [==============================] - 1s 848us/step - loss: 0.0996 - accuracy: 0.9935\n",
      "Epoch 3/50\n",
      "838/838 [==============================] - 1s 801us/step - loss: 0.0996 - accuracy: 0.9935\n",
      "Epoch 4/50\n",
      "838/838 [==============================] - 1s 815us/step - loss: 0.0996 - accuracy: 0.9935\n",
      "Epoch 5/50\n",
      "838/838 [==============================] - 1s 857us/step - loss: 0.0996 - accuracy: 0.9935\n",
      "Epoch 6/50\n",
      "838/838 [==============================] - 1s 796us/step - loss: 0.0996 - accuracy: 0.9935\n",
      "Epoch 7/50\n",
      "838/838 [==============================] - 1s 767us/step - loss: 0.0996 - accuracy: 0.9935\n",
      "Epoch 8/50\n",
      "838/838 [==============================] - 1s 851us/step - loss: 0.0996 - accuracy: 0.9935\n",
      "Epoch 9/50\n",
      "838/838 [==============================] - 1s 807us/step - loss: 0.0996 - accuracy: 0.9935\n",
      "Epoch 10/50\n",
      "838/838 [==============================] - 1s 801us/step - loss: 0.0996 - accuracy: 0.9935\n",
      "Epoch 11/50\n",
      "838/838 [==============================] - 1s 806us/step - loss: 0.0996 - accuracy: 0.9935\n",
      "Epoch 12/50\n",
      "838/838 [==============================] - 1s 769us/step - loss: 0.0996 - accuracy: 0.9935\n",
      "Epoch 13/50\n",
      "838/838 [==============================] - 1s 798us/step - loss: 0.0996 - accuracy: 0.9935\n",
      "Epoch 14/50\n",
      "838/838 [==============================] - 1s 761us/step - loss: 0.0996 - accuracy: 0.9935\n",
      "Epoch 15/50\n",
      "838/838 [==============================] - 1s 770us/step - loss: 0.0996 - accuracy: 0.9935\n",
      "Epoch 16/50\n",
      "838/838 [==============================] - 1s 819us/step - loss: 0.0996 - accuracy: 0.9935\n",
      "Epoch 17/50\n",
      "838/838 [==============================] - 1s 768us/step - loss: 0.0996 - accuracy: 0.9935\n",
      "Epoch 18/50\n",
      "838/838 [==============================] - 1s 767us/step - loss: 0.0996 - accuracy: 0.9935\n",
      "Epoch 19/50\n",
      "838/838 [==============================] - 1s 752us/step - loss: 0.0996 - accuracy: 0.9935\n",
      "Epoch 20/50\n",
      "838/838 [==============================] - 1s 784us/step - loss: 0.0996 - accuracy: 0.99350s - loss: 0.0912 - \n",
      "Epoch 21/50\n",
      "838/838 [==============================] - 1s 776us/step - loss: 0.0996 - accuracy: 0.9935\n",
      "Epoch 22/50\n",
      "838/838 [==============================] - 1s 811us/step - loss: 0.0996 - accuracy: 0.9935\n",
      "Epoch 23/50\n",
      "838/838 [==============================] - 1s 756us/step - loss: 0.0996 - accuracy: 0.9935\n",
      "Epoch 24/50\n",
      "838/838 [==============================] - 1s 781us/step - loss: 0.0996 - accuracy: 0.9935\n",
      "Epoch 25/50\n",
      "838/838 [==============================] - 1s 757us/step - loss: 0.0996 - accuracy: 0.9935\n",
      "Epoch 26/50\n",
      "838/838 [==============================] - 1s 883us/step - loss: 0.0996 - accuracy: 0.9935\n",
      "Epoch 27/50\n",
      "838/838 [==============================] - 1s 806us/step - loss: 0.0996 - accuracy: 0.9935\n",
      "Epoch 28/50\n",
      "838/838 [==============================] - 1s 818us/step - loss: 0.0996 - accuracy: 0.9935\n",
      "Epoch 29/50\n",
      "838/838 [==============================] - 1s 815us/step - loss: 0.0996 - accuracy: 0.9935\n",
      "Epoch 30/50\n",
      "838/838 [==============================] - 1s 798us/step - loss: 0.0996 - accuracy: 0.9935\n",
      "Epoch 31/50\n",
      "838/838 [==============================] - 1s 813us/step - loss: 0.0996 - accuracy: 0.9935\n",
      "Epoch 32/50\n",
      "838/838 [==============================] - 1s 766us/step - loss: 0.0996 - accuracy: 0.9935\n",
      "Epoch 33/50\n",
      "838/838 [==============================] - 1s 779us/step - loss: 0.0996 - accuracy: 0.9935\n",
      "Epoch 34/50\n",
      "838/838 [==============================] - 1s 767us/step - loss: 0.0996 - accuracy: 0.9935\n",
      "Epoch 35/50\n",
      "838/838 [==============================] - 1s 763us/step - loss: 0.0996 - accuracy: 0.9935\n",
      "Epoch 36/50\n",
      "838/838 [==============================] - 1s 797us/step - loss: 0.0996 - accuracy: 0.9935\n",
      "Epoch 37/50\n",
      "838/838 [==============================] - 1s 788us/step - loss: 0.0996 - accuracy: 0.9935\n",
      "Epoch 38/50\n",
      "838/838 [==============================] - 1s 767us/step - loss: 0.0996 - accuracy: 0.9935\n",
      "Epoch 39/50\n",
      "838/838 [==============================] - 1s 788us/step - loss: 0.0996 - accuracy: 0.9935\n",
      "Epoch 40/50\n",
      "838/838 [==============================] - 1s 820us/step - loss: 0.0996 - accuracy: 0.9935\n",
      "Epoch 41/50\n",
      "838/838 [==============================] - 1s 766us/step - loss: 0.0996 - accuracy: 0.9935\n",
      "Epoch 42/50\n",
      "838/838 [==============================] - 1s 743us/step - loss: 0.0996 - accuracy: 0.9935\n",
      "Epoch 43/50\n",
      "838/838 [==============================] - 1s 735us/step - loss: 0.0996 - accuracy: 0.9935\n",
      "Epoch 44/50\n",
      "838/838 [==============================] - 1s 750us/step - loss: 0.0996 - accuracy: 0.9935\n",
      "Epoch 45/50\n",
      "838/838 [==============================] - 1s 753us/step - loss: 0.0996 - accuracy: 0.9935\n",
      "Epoch 46/50\n",
      "838/838 [==============================] - 1s 778us/step - loss: 0.0996 - accuracy: 0.9935\n",
      "Epoch 47/50\n",
      "838/838 [==============================] - 1s 787us/step - loss: 0.0996 - accuracy: 0.9935\n",
      "Epoch 48/50\n",
      "838/838 [==============================] - 1s 756us/step - loss: 0.0996 - accuracy: 0.9935\n",
      "Epoch 49/50\n",
      "838/838 [==============================] - 1s 805us/step - loss: 0.0996 - accuracy: 0.9935TA: 0s - loss: 0.1 - ETA: 0s - loss: 0.1016 - accuracy: 0.99\n",
      "Epoch 50/50\n",
      "838/838 [==============================] - 1s 852us/step - loss: 0.0996 - accuracy: 0.9935\n"
     ]
    },
    {
     "data": {
      "text/plain": [
       "<tensorflow.python.keras.callbacks.History at 0x17db6cb1b48>"
      ]
     },
     "execution_count": 82,
     "metadata": {},
     "output_type": "execute_result"
    }
   ],
   "source": [
    "# training the model\n",
    "basic_model.fit(X_train, y_train, epochs=50)"
   ]
  },
  {
   "cell_type": "markdown",
   "metadata": {},
   "source": [
    "## <font color='darkblue'>1.6 Model Evaluation (Neural Network)</font>\n",
    "\n",
    "Now it is time to evaluate the model."
   ]
  },
  {
   "cell_type": "code",
   "execution_count": 83,
   "metadata": {},
   "outputs": [
    {
     "name": "stdout",
     "output_type": "stream",
     "text": [
      "280/280 [==============================] - 0s 706us/step - loss: 0.1088 - accuracy: 0.9929\n",
      "Loss =  0.10878444463014603\n",
      "Accuracy =  99.2947518825531 %\n"
     ]
    }
   ],
   "source": [
    "# Test, Loss and accuracy\n",
    "loss_and_metrics = basic_model.evaluate(X_test, y_test)\n",
    "print('Loss = ',loss_and_metrics[0])\n",
    "print('Accuracy = ',loss_and_metrics[1]*100,'%')"
   ]
  },
  {
   "cell_type": "markdown",
   "metadata": {},
   "source": [
    "As we can see, the model presents a really high accuracy in both non-deep learning model and deep learning model.\n",
    "One of the reasons that may impact in this result is the class imbalance, which is a topic that would need to be developed in future releases. \n",
    "Considering class imbalance at the time of splitting the train and test set, could be critical to have a higher performance when new datasets are evaluated."
   ]
  },
  {
   "cell_type": "markdown",
   "metadata": {},
   "source": [
    "## <font color='darkblue'>1.7 Model Deployment</font>\n",
    "\n",
    "\n",
    "In this project, the deployment of the model will be a PDF file generated through Jupyter Notebooks for showing the results on breast cancer predictions.\n",
    "Later use of these kind of tools could directly help on software or apps developed for decision support software in mammography."
   ]
  }
 ],
 "metadata": {
  "kernelspec": {
   "display_name": "Python 3",
   "language": "python",
   "name": "python3"
  },
  "language_info": {
   "codemirror_mode": {
    "name": "ipython",
    "version": 3
   },
   "file_extension": ".py",
   "mimetype": "text/x-python",
   "name": "python",
   "nbconvert_exporter": "python",
   "pygments_lexer": "ipython3",
   "version": "3.7.4"
  }
 },
 "nbformat": 4,
 "nbformat_minor": 2
}
